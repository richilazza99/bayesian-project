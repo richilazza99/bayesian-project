{
 "cells": [
  {
   "cell_type": "code",
   "execution_count": 11,
   "id": "9dd8a1bd",
   "metadata": {},
   "outputs": [],
   "source": [
    "from tensorflow_probability.substrates import numpy as tfp\n",
    "tfd = tfp.distributions\n",
    "import numpy as np\n",
    "import matplotlib.pyplot as plt"
   ]
  },
  {
   "cell_type": "code",
   "execution_count": 12,
   "id": "2ff4b130",
   "metadata": {},
   "outputs": [],
   "source": [
    "# P0 is a multivariate gaussian distribution \n",
    "# model Y_i | beta_i \\sim N(X[i]*beta_i, sigma^2)\n",
    "# beta_i \\sim N(mu0, sigma0)\n",
    "# beta_i | Y_i as in a linear regression model\n",
    "# marginal di Y_i is multnormal with same mean but sum of the cov matrices\n",
    "P = 5\n",
    "mu0 = np.zeros(P+1)\n",
    "sigma0 = np.eye(P+1)\n",
    "sigma0_minus = np.linalg.inv(sigma0)"
   ]
  },
  {
   "cell_type": "code",
   "execution_count": 13,
   "id": "6cc270a2",
   "metadata": {},
   "outputs": [],
   "source": [
    "from scipy.special import softmax\n",
    "\n",
    "# clusdata sarà y[i], X sarà X[i]\n",
    "def update_reg_params(clusdata, mu0, sigma0,sigma0_minus, X, sigma2):\n",
    "    Xt = np.transpose(X)\n",
    "    XtX = np.matmul(Xt,X)\n",
    "    XtXminus = np.linalg.inv(XtX)\n",
    "    sigmapost = np.linalg.inv(1/sigma2*XtX + sigma0_minus)\n",
    "    beta_hat = np.matmul(np.matmul(XtXminus,Xt),clusdata)\n",
    "    mupost =  np.matmul(sigmapost,1/sigma2*np.matmul(XtX,beta_hat)+np.matmul(sigma0_minus,mu0))\n",
    "    return mupost, sigmapost\n",
    "\n",
    "def sample_reg_post(clusdata, mu0, sigma0,sigma0_minus, X, sigma2):\n",
    "    mupost, sigmapost = update_reg_params(clusdata, mu0, sigma0, X, sigma2)\n",
    "    b_post = tfd.MultivariateNormalFullCovariance(loc=mupost,covariance_matrix=sigmapost).sample()\n",
    "    return b_post\n",
    "\n",
    "\n",
    "def marginal_regression(y, mu0, sigma0, sigma0_minus, sigma2):\n",
    "    return tfd.MultivariateNormalFullCovariance(loc=mu0,covariance_matrix=(sigma0 + sigma2*eye(P+1))).sample()"
   ]
  },
  {
   "cell_type": "code",
   "execution_count": null,
   "id": "8305bbad",
   "metadata": {},
   "outputs": [],
   "source": []
  }
 ],
 "metadata": {
  "kernelspec": {
   "display_name": "Python 3 (ipykernel)",
   "language": "python",
   "name": "python3"
  },
  "language_info": {
   "codemirror_mode": {
    "name": "ipython",
    "version": 3
   },
   "file_extension": ".py",
   "mimetype": "text/x-python",
   "name": "python",
   "nbconvert_exporter": "python",
   "pygments_lexer": "ipython3",
   "version": "3.9.6"
  }
 },
 "nbformat": 4,
 "nbformat_minor": 5
}
