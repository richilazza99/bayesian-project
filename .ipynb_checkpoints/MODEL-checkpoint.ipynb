{
 "cells": [
  {
   "cell_type": "markdown",
   "id": "87b8e185",
   "metadata": {},
   "source": [
    "## Import dependencies"
   ]
  },
  {
   "cell_type": "code",
   "execution_count": 1,
   "id": "68fb5502",
   "metadata": {},
   "outputs": [],
   "source": [
    "import pandas as pd\n",
    "import numpy as np\n",
    "import matplotlib.pyplot as plt\n",
    "import arviz as az\n",
    "\n",
    "from cmdstanpy import CmdStanModel"
   ]
  },
  {
   "cell_type": "markdown",
   "id": "39135b5f",
   "metadata": {},
   "source": [
    "## Import dataset"
   ]
  },
  {
   "cell_type": "code",
   "execution_count": 2,
   "id": "cc65b552",
   "metadata": {},
   "outputs": [],
   "source": [
    "with open(\"fecondita_finale\", \"rb\") as f:\n",
    "    dataset=pd.read_csv(f)\n",
    "    \n",
    "dataset = dataset.sort_values(by=['Territorio', 'TIME'])"
   ]
  },
  {
   "cell_type": "markdown",
   "id": "3036bfad",
   "metadata": {},
   "source": [
    "## Get response"
   ]
  },
  {
   "cell_type": "code",
   "execution_count": 10,
   "id": "8e2d3b53",
   "metadata": {},
   "outputs": [
    {
     "name": "stdout",
     "output_type": "stream",
     "text": [
      "(106, 10)\n"
     ]
    },
    {
     "data": {
      "image/png": "[encoded data removed]",
      "text/plain": [
       "<Figure size 640x480 with 1 Axes>"
      ]
     },
     "metadata": {},
     "output_type": "display_data"
    }
   ],
   "source": [
    "Y = np.array(dataset[\"tasso.di.fecondità.totale\"])\n",
    "y = []\n",
    "y_tmp = np.zeros(10)\n",
    "for prov in np.unique(dataset[\"Territorio\"]):\n",
    "    data_prov = dataset[dataset[\"Territorio\"] == prov]\n",
    "    y_tmp = np.array(data_prov[\"tasso.di.fecondità.totale\"])\n",
    "    y.append(y_tmp)\n",
    "y = np.array(y)\n",
    "y = (y-np.mean(y)) / (0.5*(np.max(y)-np.min(y)))\n",
    "\n",
    "# print(Y)\n",
    "print(y.shape)\n",
    "plt.hist(y)    \n",
    "plt.show()"
   ]
  },
  {
   "cell_type": "markdown",
   "id": "1013b098",
   "metadata": {},
   "source": [
    "## Covariates"
   ]
  },
  {
   "cell_type": "code",
   "execution_count": 11,
   "id": "896a4481",
   "metadata": {},
   "outputs": [
    {
     "data": {
      "image/png": "[encoded data removed]",
      "text/plain": [
       "<Figure size 640x480 with 1 Axes>"
      ]
     },
     "metadata": {},
     "output_type": "display_data"
    },
    {
     "name": "stdout",
     "output_type": "stream",
     "text": [
      "[[[ 1.         -0.83176418]\n",
      "  [ 1.         -0.79444929]\n",
      "  [ 1.         -0.828479  ]\n",
      "  ...\n",
      "  [ 1.         -0.9500519 ]\n",
      "  [ 1.         -0.80973647]\n",
      "  [ 1.         -0.84393127]]\n",
      "\n",
      " [[ 1.          0.23738928]\n",
      "  [ 1.          0.2762141 ]\n",
      "  [ 1.          0.07076276]\n",
      "  ...\n",
      "  [ 1.          0.21239791]\n",
      "  [ 1.          0.12521322]\n",
      "  [ 1.          0.08034839]]\n",
      "\n",
      " [[ 1.          0.37618853]\n",
      "  [ 1.          0.30128818]\n",
      "  [ 1.          0.31348883]\n",
      "  ...\n",
      "  [ 1.          0.33916845]\n",
      "  [ 1.          0.36901252]\n",
      "  [ 1.          0.28541997]]\n",
      "\n",
      " ...\n",
      "\n",
      " [[ 1.         -0.63957747]\n",
      "  [ 1.         -0.73458795]\n",
      "  [ 1.         -0.7015024 ]\n",
      "  ...\n",
      "  [ 1.         -0.57148116]\n",
      "  [ 1.         -0.74385441]\n",
      "  [ 1.         -0.83429987]]\n",
      "\n",
      " [[ 1.          0.40621065]\n",
      "  [ 1.          0.34552458]\n",
      "  [ 1.          0.20673373]\n",
      "  ...\n",
      "  [ 1.          0.38971429]\n",
      "  [ 1.          0.4705738 ]\n",
      "  [ 1.          0.28640178]]\n",
      "\n",
      " [[ 1.         -0.2194163 ]\n",
      "  [ 1.         -0.19171084]\n",
      "  [ 1.         -0.12348808]\n",
      "  ...\n",
      "  [ 1.         -0.08914019]\n",
      "  [ 1.         -0.11555213]\n",
      "  [ 1.         -0.17921886]]]\n"
     ]
    }
   ],
   "source": [
    "P = 1\n",
    "covariates = []\n",
    "\n",
    "# covariates.append(np.array(dataset[\"tasso.di.inattività.delle.femmine\"]))\n",
    "# covariates.append(np.array(dataset[\"età.media.delle.madri.al.parto\"]))\n",
    "# covariates.append(np.array(dataset[\"età.media.dei.padri.alla.nascita.del.figlio\"]))\n",
    "# covariates.append(np.array(dataset[\"tasso.di.inattività.dei.maschi\"]))\n",
    "# covariates.append(np.array(dataset[\"tasso.di.inattività.delle.femmine\"]))\n",
    "# covariates.append(np.array(dataset[\"tasso.di.inattività.totale\"]))\n",
    "# covariates.append(np.array(dataset[\"tasso.di.occupazione.dei.maschi\"]))\n",
    "covariates.append(np.array(dataset[\"tasso.di.occupazione.delle.femmine\"]))\n",
    "# covariates.append(np.array(dataset[\"tasso.di.occupazione.totale\"]))\n",
    "\n",
    "\n",
    "X = np.ones((1060,P+1))\n",
    "\n",
    "\n",
    "for p in range(P):\n",
    "    x = covariates[p]\n",
    "    x = (x-np.mean(x)) / (0.5*(np.max(x)-np.min(x)))\n",
    "    plt.hist(x)\n",
    "    plt.show()\n",
    "    X[:,p+1] = x\n",
    "\n",
    "X = np.reshape(X,(106,10,P+1))\n",
    "print(X)"
   ]
  },
  {
   "cell_type": "markdown",
   "id": "933c0081",
   "metadata": {},
   "source": [
    "## Shrink time"
   ]
  },
  {
   "cell_type": "code",
   "execution_count": 12,
   "id": "60cf9bbf",
   "metadata": {},
   "outputs": [
    {
     "name": "stdout",
     "output_type": "stream",
     "text": [
      "0.059787735849056355\n",
      "0.4909466560310491\n"
     ]
    }
   ],
   "source": [
    "I = 106\n",
    "T = 4\n",
    "\n",
    "new_X = np.zeros((I,T,P+1))\n",
    "new_Y = np.zeros((I,T))\n",
    "\n",
    "for i in range(I):\n",
    "    for t in range(T):\n",
    "        new_X[i,t,:] = X[i,(10//T)*t,:]\n",
    "        new_Y[i,t]   = y[i,(10//T)*t]\n",
    "\n",
    "X = new_X\n",
    "y = new_Y\n",
    "\n",
    "print(np.mean(y))\n",
    "print(np.mean(X))"
   ]
  },
  {
   "cell_type": "code",
   "execution_count": 36,
   "id": "6afc5115",
   "metadata": {},
   "outputs": [
    {
     "data": {
      "text/plain": [
       "(106, 4, 2)"
      ]
     },
     "execution_count": 36,
     "metadata": {},
     "output_type": "execute_result"
    }
   ],
   "source": [
    "X.shape"
   ]
  },
  {
   "cell_type": "markdown",
   "id": "3d6b5ed2",
   "metadata": {},
   "source": [
    "## Proximity matrix"
   ]
  },
  {
   "cell_type": "code",
   "execution_count": 6,
   "id": "4116840d",
   "metadata": {},
   "outputs": [
    {
     "data": {
      "text/plain": [
       "True"
      ]
     },
     "execution_count": 6,
     "metadata": {},
     "output_type": "execute_result"
    }
   ],
   "source": [
    "with open(\"proximity_matrix\", \"rb\") as f:\n",
    "    W_raw=pd.read_csv(f)\n",
    "    \n",
    "W_raw=np.matrix(W_raw)\n",
    "\n",
    "for i in range(106):\n",
    "  W_raw[i,i] = 0\n",
    "\n",
    "W_raw=np.matrix(W_raw)\n",
    "Wt = W_raw.transpose()\n",
    "(Wt == W_raw).all()"
   ]
  },
  {
   "cell_type": "markdown",
   "id": "f758914e",
   "metadata": {},
   "source": [
    "## Qinv computation"
   ]
  },
  {
   "cell_type": "code",
   "execution_count": 7,
   "id": "1731b800",
   "metadata": {},
   "outputs": [
    {
     "name": "stdout",
     "output_type": "stream",
     "text": [
      "True\n"
     ]
    }
   ],
   "source": [
    "one_vector = np.ones(shape = (I,1))\n",
    "B = np.matmul(W_raw , one_vector)\n",
    "A =  np.diagflat(np.array(B))\n",
    "W_intermedia = A - W_raw\n",
    "\n",
    "\n",
    "rho = 0.95 \n",
    "Q = rho * W_intermedia  + (1-rho) * np.eye(I)\n",
    "Qinv = np.linalg.inv(Q)\n",
    "# Qinv.shape\n",
    "W_intermedia.shape\n",
    "\n",
    "#Qinv must be positive definite\n",
    "for i in range(I):\n",
    "  for j in range(I):\n",
    "    Qinv[j,i] = Qinv[i,j]\n",
    "\n",
    "Qinv=np.matrix(Qinv)\n",
    "Qinvt = Qinv.transpose()\n",
    "print((Qinv == Qinvt).all())"
   ]
  },
  {
   "cell_type": "markdown",
   "id": "b19dbfab",
   "metadata": {},
   "source": [
    "## Prior predictive check"
   ]
  },
  {
   "cell_type": "code",
   "execution_count": 13,
   "id": "9102b2ee",
   "metadata": {},
   "outputs": [],
   "source": [
    "mu_0 = 0.25*np.ones(P+1) #as in the paper\n",
    "mu_w_1 = np.zeros(I) #as in the paper\n",
    "sigma_0 = 1 #covariance matrix\n",
    "a_alpha = 1 \n",
    "b_alpha = 4\n",
    "a_tau2 = 5\n",
    "b_tau2 = 2\n",
    "a_sigma2 = 3\n",
    "b_sigma2 = 2\n",
    "rho = 0.95\n",
    "a_xi = 5\n",
    "b_xi = 1"
   ]
  },
  {
   "cell_type": "code",
   "execution_count": 72,
   "id": "ed3b2383",
   "metadata": {},
   "outputs": [
    {
     "name": "stdout",
     "output_type": "stream",
     "text": [
      "0.39164093\n"
     ]
    },
    {
     "data": {
      "image/png": "[encoded data removed]",
      "text/plain": [
       "<Figure size 640x480 with 1 Axes>"
      ]
     },
     "metadata": {},
     "output_type": "display_data"
    }
   ],
   "source": [
    "\n",
    "\n",
    "\n",
    "from tensorflow_probability.substrates import numpy as tfp\n",
    "tfd = tfp.distributions\n",
    "np.random.seed(0)\n",
    "\n",
    "# weight construction\n",
    "weight = np.zeros(H)\n",
    "v = np.zeros(H)\n",
    "v[0] = np.random.beta(a = a_alpha,b = b_alpha)\n",
    "weight[0] = v[0]\n",
    "for h in range(1,H-1):\n",
    "    v[h] = np.random.beta(a = a_alpha,b = b_alpha)\n",
    "    cumprod = np.cumprod(1 - v[0:h])[h-1]\n",
    "    weight[h] = v[h]*cumprod\n",
    "    \n",
    "weight = weight/ np.cumsum(weight)\n",
    "# to be chekcked\n",
    "\n",
    "# betas construction \n",
    "betas = []\n",
    "beta = np.zeros(P+1)\n",
    "for h in range(H):\n",
    "    beta = np.array(np.random.multivariate_normal(mean=mu_0, cov = sigma_0*np.eye(P+1)))\n",
    "    betas.append(beta)\n",
    "                                         \n",
    "betas = np.array(betas)\n",
    "                                         \n",
    "# tau2\n",
    "tau2 = tfd.InverseGamma(concentration = a_tau2 , scale = b_tau2).sample()\n",
    "print(tau2)\n",
    "                                         \n",
    "# random effects construction \n",
    "xi = tfd.Beta(a_xi,b_xi).sample()\n",
    "xi = 2*xi - 1\n",
    "W=np.zeros((I,T))\n",
    "diag_matrix_xis= xi*np.eye(I) #diag(xis)                                          \n",
    "W[:,0]=np.random.multivariate_normal(mean=np.zeros(I),cov=tau2*Qinv)\n",
    "for t in range(T-1):\n",
    "    W[:,t+1]=np.random.multivariate_normal(mean=np.matmul(diag_matrix_xis,W[:,t]), cov=tau2*Qinv)                                        \n",
    "                    \n",
    "# sigma\n",
    "sigma2 = tfd.InverseGamma(concentration = a_sigma2 , scale = b_sigma2).sample()                                     \n",
    "\n",
    "# y construction \n",
    "y = np.zeros(I*T)                                   \n",
    "for i in range(I):                                   \n",
    "    for h in range(H):\n",
    "        y[i*T:(i+1)*T] += weight[h]*np.random.multivariate_normal(mean=np.matmul(X[i],betas[h]) + W[i,:], cov = sigma2*np.eye(T))\n",
    "              \n",
    "y = (y-np.mean(y)) / (0.5*(np.max(y)-np.min(y)))\n",
    "plt.hist(y)   # lo voglio simile all'istogramma sopra  \n",
    "plt.show()"
   ]
  },
  {
   "cell_type": "markdown",
   "id": "c6e7f17d",
   "metadata": {},
   "source": [
    "## Hyperparameters and data"
   ]
  },
  {
   "cell_type": "code",
   "execution_count": 14,
   "id": "74ad4d60",
   "metadata": {},
   "outputs": [],
   "source": [
    "H = 10\n",
    "mu_0 = np.zeros(P+1) #as in the paper\n",
    "mu_w_1 = np.zeros(I) #as in the paper\n",
    "sigma_0 = 1 #covariance matrix\n",
    "\n",
    "\n",
    "data = {\n",
    "    \"I\": I,\n",
    "    \"T\": T,\n",
    "    \"P\": P,\n",
    "    \"H\": H,\n",
    "    \"y\": y,\n",
    "    \"X\": X,\n",
    "    \"mu_0\": mu_0,\n",
    "    \"sigma_0\": sigma_0,\n",
    "    \"mu_w_1\": mu_w_1,\n",
    "    \"a_alpha\": a_alpha,\n",
    "    \"b_alpha\": b_alpha,\n",
    "    \"a_tau2\": a_tau2,\n",
    "    \"b_tau2\": b_tau2,\n",
    "    \"a_sigma2\": a_sigma2,\n",
    "    \"b_sigma2\": b_sigma2,\n",
    "    \"rho\": 0.95,\n",
    "    \"a_xi\": a_xi,\n",
    "    \"b_xi\": b_xi,\n",
    "    \"inv_Q\": Qinv\n",
    "}"
   ]
  },
  {
   "cell_type": "markdown",
   "id": "1f8fad88",
   "metadata": {},
   "source": [
    "## Model"
   ]
  },
  {
   "cell_type": "code",
   "execution_count": 15,
   "id": "453cab5b",
   "metadata": {},
   "outputs": [
    {
     "name": "stderr",
     "output_type": "stream",
     "text": [
      "08:15:25 - cmdstanpy - INFO - compiling stan file /home/daan/bayesian-project/True_Dataset.stan to exe file /home/daan/bayesian-project/True_Dataset\n",
      "08:15:48 - cmdstanpy - INFO - compiled model executable: /home/daan/bayesian-project/True_Dataset\n"
     ]
    }
   ],
   "source": [
    "stan_model = \"\"\"\n",
    "data\n",
    "{\n",
    "    int I; // number of areal locations\n",
    "    int T; // number of time steps\n",
    "    int P; // number of covariates\n",
    "    int H; // truncation of stick breaking construction dp\n",
    "    \n",
    "    array[I] vector[T] y; // value of interest\n",
    "    array[I] matrix[T,P+1] X; // covariates matrices for each province\n",
    "      \n",
    "    // hyperpar vector of regressors\n",
    "    vector[P+1] mu_0; \n",
    "    real        sigma_0;\n",
    "    \n",
    "    // mean of w_1 (random effect for every province at time 1)\n",
    "    vector[I] mu_w_1;\n",
    "    \n",
    "    // alpha\n",
    "    real a_alpha;\n",
    "    real b_alpha;\n",
    "    \n",
    "    // tau^2\n",
    "    real a_tau2;\n",
    "    real b_tau2;\n",
    "    \n",
    "    // sigma^2\n",
    "    real a_sigma2;\n",
    "    real b_sigma2;\n",
    "    \n",
    "    // rho \n",
    "    real rho;\n",
    "    \n",
    "    //xis\n",
    "    real a_xi;\n",
    "    real b_xi;\n",
    "\n",
    "    // Qinv\n",
    "    matrix[I,I] inv_Q;\n",
    "}\n",
    "\n",
    "transformed data {\n",
    "    matrix[I, I] L;\n",
    "    L = cholesky_decompose(inv_Q);\n",
    "}\n",
    "\n",
    "parameters\n",
    "{\n",
    "    real<lower=0> alpha;\n",
    "    real<lower=0> sigma2; \n",
    "    real<lower=0> tau2;  \n",
    "    \n",
    "    // autoregressive coefficient\n",
    "    real<lower=0,upper=1> xi_constructor;\n",
    "    \n",
    "    // betas for the mixture of the dirichlet process\n",
    "    array[H] vector[P+1] betas;\n",
    "\n",
    "    // for the construction of the dirichlet process\n",
    "    vector<lower=0,upper=1>[H-1] vs;\n",
    "    \n",
    "    // for the random effect construction \n",
    "    vector[I] w_raw;\n",
    "}\n",
    "\n",
    "transformed parameters\n",
    "{   \n",
    "    // weights stick breaking construction\n",
    "    simplex[H] omegas; \n",
    "    \n",
    "    // sbc stuff\n",
    "    vector[H-1] cumprod_one_mv;    \n",
    "    cumprod_one_mv = exp(cumulative_sum(log1m(vs)));\n",
    "    \n",
    "    omegas[1] = vs[1];\n",
    "    omegas[2:(H-1)] = vs[2:(H-1)] .* cumprod_one_mv[1:(H-2)];\n",
    "    omegas[H] = cumprod_one_mv[H-1];\n",
    "    \n",
    "    // xi of the random effects\n",
    "    real xi = 2*xi_constructor-1;\n",
    "    \n",
    "    // random effects tmp\n",
    "    matrix[I,T]                ws_tmp;\n",
    "    \n",
    "    ws_tmp[1:I,1] =  mu_w_1 + L*w_raw;\n",
    "    \n",
    "    for (t in 2:T)\n",
    "        ws_tmp[1:I,t] = ws_tmp[1:I,t-1]*xi + L*w_raw; \n",
    "    \n",
    "    matrix[T,I]   ws = (ws_tmp)'; //otherwise I have to transpose in the for loop at each iteration\n",
    "    \n",
    "    // Stan wants std\n",
    "    real sigma = sqrt(sigma2);\n",
    "    real tau = sqrt(tau2);\n",
    "    \n",
    "    // for each mixture and province the means for all the time\n",
    "    array[H,I] vector[T] means;\n",
    "\n",
    "    for (i in 1:I) {\n",
    "        for (h in 1:H) \n",
    "            means[h,i] = X[i]*betas[h] + ws[1:T,i];\n",
    "    }\n",
    "\n",
    "}\n",
    "\n",
    "model\n",
    "{\n",
    "    alpha  ~ gamma(a_alpha,b_alpha);\n",
    "    sigma2 ~ inv_gamma(a_sigma2,b_sigma2);\n",
    "    tau2   ~ inv_gamma(a_tau2,b_tau2);\n",
    "    vs     ~ beta(1,alpha);\n",
    "    w_raw ~ normal(0, tau); // does vectorization work? it is a vector it should\n",
    "    xi_constructor ~ beta(a_xi,b_xi);\n",
    "    \n",
    "    for (h in 1:H)\n",
    "        betas[h] ~ normal(mu_0, sigma_0);\n",
    "    \n",
    "    vector[H] log_probs;\n",
    "    for (i in 1:I) {\n",
    "        // si rinizializza in questo modo log_probs??\n",
    "        for (h in 1:H) \n",
    "            log_probs[h] = log(omegas[h]) + \n",
    "            normal_lpdf(y[i] | means[h,i], sigma);\n",
    "        \n",
    "        target += log_sum_exp(log_probs);\n",
    "    }\n",
    "}\n",
    "\n",
    "generated quantities \n",
    "{   \n",
    "    // vector of cluster allocations\n",
    "    vector[I] s;\n",
    "    \n",
    "    // log likelihood for each areal location \n",
    "    vector[I] log_lik;\n",
    "    \n",
    "    array[I] vector[H] log_probs;\n",
    "    for (i in 1:I) \n",
    "    {\n",
    "        for (h in 1:H) \n",
    "            log_probs[i,h] = log(omegas[h]) + \n",
    "            normal_lpdf(y[i] | means[h,i], sigma);\n",
    "        \n",
    "        s[i] = categorical_rng(softmax(log_probs[i]));\n",
    "        log_lik[i] = log_sum_exp(log_probs[i]);\n",
    "    }\n",
    "    \n",
    "        \n",
    "}\n",
    "\"\"\"\n",
    "\n",
    "stan_file = \"True_Dataset.stan\"\n",
    "\n",
    "with open(stan_file, \"w\") as fp:\n",
    "    fp.write(stan_model)\n",
    "    \n",
    "model = CmdStanModel(stan_file=stan_file)"
   ]
  },
  {
   "cell_type": "markdown",
   "id": "28aefa08",
   "metadata": {},
   "source": [
    "## Fit model and save posterior"
   ]
  },
  {
   "cell_type": "code",
   "execution_count": null,
   "id": "ebe4d819",
   "metadata": {},
   "outputs": [
    {
     "name": "stderr",
     "output_type": "stream",
     "text": [
      "08:15:55 - cmdstanpy - INFO - CmdStan start processing\n"
     ]
    },
    {
     "data": {
      "application/vnd.jupyter.widget-view+json": {
       "model_id": "c022ac1cac654759b36733f08e2ad6a2",
       "version_major": 2,
       "version_minor": 0
      },
      "text/plain": [
       "chain 1 |          | 00:00 Status"
      ]
     },
     "metadata": {},
     "output_type": "display_data"
    },
    {
     "data": {
      "application/vnd.jupyter.widget-view+json": {
       "model_id": "6e981ee077384c07a9328d8a65794e6f",
       "version_major": 2,
       "version_minor": 0
      },
      "text/plain": [
       "chain 2 |          | 00:00 Status"
      ]
     },
     "metadata": {},
     "output_type": "display_data"
    },
    {
     "data": {
      "application/vnd.jupyter.widget-view+json": {
       "model_id": "79d2950c6fd34ea2aec66ef52469ef58",
       "version_major": 2,
       "version_minor": 0
      },
      "text/plain": [
       "chain 3 |          | 00:00 Status"
      ]
     },
     "metadata": {},
     "output_type": "display_data"
    },
    {
     "data": {
      "application/vnd.jupyter.widget-view+json": {
       "model_id": "bb50c29edc4b4b09954a9c118c71d2f9",
       "version_major": 2,
       "version_minor": 0
      },
      "text/plain": [
       "chain 4 |          | 00:00 Status"
      ]
     },
     "metadata": {},
     "output_type": "display_data"
    },
    {
     "name": "stdout",
     "output_type": "stream",
     "text": [
      "                                                                                                                                                                                                                                                                                                                                "
     ]
    },
    {
     "name": "stderr",
     "output_type": "stream",
     "text": [
      "09:08:12 - cmdstanpy - INFO - CmdStan done processing.\n",
      "09:08:12 - cmdstanpy - WARNING - Non-fatal error during sampling:\n",
      "Exception: beta_lpdf: Second shape parameter is 0, but must be positive finite! (in '/home/daan/bayesian-project/True_Dataset.stan', line 111, column 4 to column 27)\n",
      "Exception: normal_lpdf: Scale parameter is 0, but must be positive! (in '/home/daan/bayesian-project/True_Dataset.stan', line 112, column 4 to column 27)\n",
      "Exception: normal_lpdf: Scale parameter is 0, but must be positive! (in '/home/daan/bayesian-project/True_Dataset.stan', line 112, column 4 to column 27)\n",
      "Consider re-running with show_console=True if the above output is unclear!\n"
     ]
    },
    {
     "name": "stdout",
     "output_type": "stream",
     "text": [
      "\n"
     ]
    },
    {
     "name": "stderr",
     "output_type": "stream",
     "text": [
      "09:08:16 - cmdstanpy - WARNING - Some chains may have failed to converge.\n",
      "\tChain 1 had 1149 divergent transitions (23.0%)\n",
      "\tChain 2 had 802 divergent transitions (16.0%)\n",
      "\tChain 3 had 973 divergent transitions (19.5%)\n",
      "\tChain 4 had 1086 divergent transitions (21.7%)\n",
      "\tUse function \"diagnose()\" to see further information.\n"
     ]
    }
   ],
   "source": [
    "fit = model.sample(data\n",
    "                    , seed = 42\n",
    "                    , iter_warmup = 5000\n",
    "                    , iter_sampling = 5000\n",
    "                    , adapt_init_phase = 1500\n",
    "                    , adapt_metric_window = 1500\n",
    "                    , adapt_step_size = 1500\n",
    "#                     , show_console = True\n",
    "#                     , chains = 4\n",
    "#                     , adapt_delta=0.9\n",
    "#                     , step_size = 0.1\n",
    "                    , max_treedepth = 100\n",
    "                   )\n",
    "\n",
    "s = (fit.s).astype(int)\n",
    "\n",
    "np.savetxt(\"true_dataset_posterior_s.csv\", s, delimiter=\",\")\n",
    "s.shape"
   ]
  },
  {
   "cell_type": "code",
   "execution_count": null,
   "id": "13b874eb",
   "metadata": {},
   "outputs": [],
   "source": [
    "fit_az = az.from_cmdstanpy(fit)\n",
    "az.plot_trace(fit_az,var_names=[\"betas\"], compact=False)"
   ]
  },
  {
   "cell_type": "code",
   "execution_count": null,
   "id": "4744bdc0",
   "metadata": {},
   "outputs": [],
   "source": [
    "for item in s:\n",
    "    for i in item:\n",
    "        if (i!=item[0]):\n",
    "            print(i)"
   ]
  }
 ],
 "metadata": {
  "kernelspec": {
   "display_name": "Python 3 (ipykernel)",
   "language": "python",
   "name": "python3"
  },
  "language_info": {
   "codemirror_mode": {
    "name": "ipython",
    "version": 3
   },
   "file_extension": ".py",
   "mimetype": "text/x-python",
   "name": "python",
   "nbconvert_exporter": "python",
   "pygments_lexer": "ipython3",
   "version": "3.10.6"
  }
 },
 "nbformat": 4,
 "nbformat_minor": 5
}
