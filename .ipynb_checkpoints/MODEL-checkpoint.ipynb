{
 "cells": [
  {
   "cell_type": "markdown",
   "id": "3598ee3a",
   "metadata": {},
   "source": [
    " # Import Dataset"
   ]
  },
  {
   "cell_type": "code",
   "execution_count": 1,
   "id": "78a1b6b4",
   "metadata": {},
   "outputs": [],
   "source": [
    "import pandas as pd\n",
    "import numpy as np\n",
    "\n",
    "from cmdstanpy import CmdStanModel\n",
    "import arviz as az\n",
    "\n",
    "import matplotlib.pyplot as plt"
   ]
  },
  {
   "cell_type": "code",
   "execution_count": 2,
   "id": "f8d7641c",
   "metadata": {},
   "outputs": [
    {
     "data": {
      "text/html": [
       "<div>\n",
       "<style scoped>\n",
       "    .dataframe tbody tr th:only-of-type {\n",
       "        vertical-align: middle;\n",
       "    }\n",
       "\n",
       "    .dataframe tbody tr th {\n",
       "        vertical-align: top;\n",
       "    }\n",
       "\n",
       "    .dataframe thead th {\n",
       "        text-align: right;\n",
       "    }\n",
       "</style>\n",
       "<table border=\"1\" class=\"dataframe\">\n",
       "  <thead>\n",
       "    <tr style=\"text-align: right;\">\n",
       "      <th></th>\n",
       "      <th>Territorio</th>\n",
       "      <th>TIME</th>\n",
       "      <th>età.media.delle.madri.al.parto</th>\n",
       "      <th>età.media.dei.padri.alla.nascita.del.figlio</th>\n",
       "      <th>tasso.di.fecondità.totale</th>\n",
       "      <th>tasso.di.inattività.dei.maschi</th>\n",
       "      <th>tasso.di.inattività.delle.femmine</th>\n",
       "      <th>tasso.di.inattività.totale</th>\n",
       "      <th>tasso.di.occupazione.dei.maschi</th>\n",
       "      <th>tasso.di.occupazione.delle.femmine</th>\n",
       "      <th>tasso.di.occupazione.totale</th>\n",
       "    </tr>\n",
       "  </thead>\n",
       "  <tbody>\n",
       "    <tr>\n",
       "      <th>930</th>\n",
       "      <td>Agrigento</td>\n",
       "      <td>2011</td>\n",
       "      <td>30.94</td>\n",
       "      <td>34.80</td>\n",
       "      <td>1.37</td>\n",
       "      <td>42.911800</td>\n",
       "      <td>75.561168</td>\n",
       "      <td>59.924924</td>\n",
       "      <td>47.392418</td>\n",
       "      <td>19.828757</td>\n",
       "      <td>33.029603</td>\n",
       "    </tr>\n",
       "    <tr>\n",
       "      <th>931</th>\n",
       "      <td>Agrigento</td>\n",
       "      <td>2012</td>\n",
       "      <td>30.73</td>\n",
       "      <td>34.57</td>\n",
       "      <td>1.35</td>\n",
       "      <td>43.934839</td>\n",
       "      <td>74.366121</td>\n",
       "      <td>59.780301</td>\n",
       "      <td>45.282895</td>\n",
       "      <td>20.513632</td>\n",
       "      <td>32.385627</td>\n",
       "    </tr>\n",
       "    <tr>\n",
       "      <th>932</th>\n",
       "      <td>Agrigento</td>\n",
       "      <td>2013</td>\n",
       "      <td>31.09</td>\n",
       "      <td>34.78</td>\n",
       "      <td>1.27</td>\n",
       "      <td>46.361107</td>\n",
       "      <td>73.567265</td>\n",
       "      <td>60.518499</td>\n",
       "      <td>43.469198</td>\n",
       "      <td>19.889053</td>\n",
       "      <td>31.198656</td>\n",
       "    </tr>\n",
       "    <tr>\n",
       "      <th>933</th>\n",
       "      <td>Agrigento</td>\n",
       "      <td>2014</td>\n",
       "      <td>30.99</td>\n",
       "      <td>35.06</td>\n",
       "      <td>1.33</td>\n",
       "      <td>47.098738</td>\n",
       "      <td>72.427712</td>\n",
       "      <td>60.272133</td>\n",
       "      <td>39.673492</td>\n",
       "      <td>20.296449</td>\n",
       "      <td>29.595648</td>\n",
       "    </tr>\n",
       "    <tr>\n",
       "      <th>934</th>\n",
       "      <td>Agrigento</td>\n",
       "      <td>2015</td>\n",
       "      <td>31.14</td>\n",
       "      <td>34.97</td>\n",
       "      <td>1.27</td>\n",
       "      <td>45.169256</td>\n",
       "      <td>75.916130</td>\n",
       "      <td>61.148536</td>\n",
       "      <td>40.057236</td>\n",
       "      <td>18.153835</td>\n",
       "      <td>28.674135</td>\n",
       "    </tr>\n",
       "    <tr>\n",
       "      <th>...</th>\n",
       "      <td>...</td>\n",
       "      <td>...</td>\n",
       "      <td>...</td>\n",
       "      <td>...</td>\n",
       "      <td>...</td>\n",
       "      <td>...</td>\n",
       "      <td>...</td>\n",
       "      <td>...</td>\n",
       "      <td>...</td>\n",
       "      <td>...</td>\n",
       "      <td>...</td>\n",
       "    </tr>\n",
       "    <tr>\n",
       "      <th>625</th>\n",
       "      <td>Viterbo</td>\n",
       "      <td>2016</td>\n",
       "      <td>31.99</td>\n",
       "      <td>35.76</td>\n",
       "      <td>1.23</td>\n",
       "      <td>39.518267</td>\n",
       "      <td>60.635768</td>\n",
       "      <td>50.408778</td>\n",
       "      <td>52.769263</td>\n",
       "      <td>32.263986</td>\n",
       "      <td>42.194134</td>\n",
       "    </tr>\n",
       "    <tr>\n",
       "      <th>626</th>\n",
       "      <td>Viterbo</td>\n",
       "      <td>2017</td>\n",
       "      <td>32.17</td>\n",
       "      <td>35.73</td>\n",
       "      <td>1.16</td>\n",
       "      <td>41.158020</td>\n",
       "      <td>61.241767</td>\n",
       "      <td>51.511845</td>\n",
       "      <td>51.680541</td>\n",
       "      <td>33.283508</td>\n",
       "      <td>42.195912</td>\n",
       "    </tr>\n",
       "    <tr>\n",
       "      <th>627</th>\n",
       "      <td>Viterbo</td>\n",
       "      <td>2018</td>\n",
       "      <td>32.05</td>\n",
       "      <td>35.64</td>\n",
       "      <td>1.20</td>\n",
       "      <td>42.945825</td>\n",
       "      <td>61.820030</td>\n",
       "      <td>52.659989</td>\n",
       "      <td>50.508888</td>\n",
       "      <td>33.458828</td>\n",
       "      <td>41.733539</td>\n",
       "    </tr>\n",
       "    <tr>\n",
       "      <th>628</th>\n",
       "      <td>Viterbo</td>\n",
       "      <td>2019</td>\n",
       "      <td>31.97</td>\n",
       "      <td>35.51</td>\n",
       "      <td>1.11</td>\n",
       "      <td>44.935350</td>\n",
       "      <td>63.118101</td>\n",
       "      <td>54.287825</td>\n",
       "      <td>49.777042</td>\n",
       "      <td>32.974065</td>\n",
       "      <td>41.133933</td>\n",
       "    </tr>\n",
       "    <tr>\n",
       "      <th>629</th>\n",
       "      <td>Viterbo</td>\n",
       "      <td>2020</td>\n",
       "      <td>32.38</td>\n",
       "      <td>35.89</td>\n",
       "      <td>1.09</td>\n",
       "      <td>44.905846</td>\n",
       "      <td>64.382497</td>\n",
       "      <td>54.909631</td>\n",
       "      <td>50.891552</td>\n",
       "      <td>31.805530</td>\n",
       "      <td>41.088062</td>\n",
       "    </tr>\n",
       "  </tbody>\n",
       "</table>\n",
       "<p>1060 rows × 11 columns</p>\n",
       "</div>"
      ],
      "text/plain": [
       "    Territorio  TIME  età.media.delle.madri.al.parto  \\\n",
       "930  Agrigento  2011                           30.94   \n",
       "931  Agrigento  2012                           30.73   \n",
       "932  Agrigento  2013                           31.09   \n",
       "933  Agrigento  2014                           30.99   \n",
       "934  Agrigento  2015                           31.14   \n",
       "..         ...   ...                             ...   \n",
       "625    Viterbo  2016                           31.99   \n",
       "626    Viterbo  2017                           32.17   \n",
       "627    Viterbo  2018                           32.05   \n",
       "628    Viterbo  2019                           31.97   \n",
       "629    Viterbo  2020                           32.38   \n",
       "\n",
       "     età.media.dei.padri.alla.nascita.del.figlio  tasso.di.fecondità.totale  \\\n",
       "930                                        34.80                       1.37   \n",
       "931                                        34.57                       1.35   \n",
       "932                                        34.78                       1.27   \n",
       "933                                        35.06                       1.33   \n",
       "934                                        34.97                       1.27   \n",
       "..                                           ...                        ...   \n",
       "625                                        35.76                       1.23   \n",
       "626                                        35.73                       1.16   \n",
       "627                                        35.64                       1.20   \n",
       "628                                        35.51                       1.11   \n",
       "629                                        35.89                       1.09   \n",
       "\n",
       "     tasso.di.inattività.dei.maschi  tasso.di.inattività.delle.femmine  \\\n",
       "930                       42.911800                          75.561168   \n",
       "931                       43.934839                          74.366121   \n",
       "932                       46.361107                          73.567265   \n",
       "933                       47.098738                          72.427712   \n",
       "934                       45.169256                          75.916130   \n",
       "..                              ...                                ...   \n",
       "625                       39.518267                          60.635768   \n",
       "626                       41.158020                          61.241767   \n",
       "627                       42.945825                          61.820030   \n",
       "628                       44.935350                          63.118101   \n",
       "629                       44.905846                          64.382497   \n",
       "\n",
       "     tasso.di.inattività.totale  tasso.di.occupazione.dei.maschi  \\\n",
       "930                   59.924924                        47.392418   \n",
       "931                   59.780301                        45.282895   \n",
       "932                   60.518499                        43.469198   \n",
       "933                   60.272133                        39.673492   \n",
       "934                   61.148536                        40.057236   \n",
       "..                          ...                              ...   \n",
       "625                   50.408778                        52.769263   \n",
       "626                   51.511845                        51.680541   \n",
       "627                   52.659989                        50.508888   \n",
       "628                   54.287825                        49.777042   \n",
       "629                   54.909631                        50.891552   \n",
       "\n",
       "     tasso.di.occupazione.delle.femmine  tasso.di.occupazione.totale  \n",
       "930                           19.828757                    33.029603  \n",
       "931                           20.513632                    32.385627  \n",
       "932                           19.889053                    31.198656  \n",
       "933                           20.296449                    29.595648  \n",
       "934                           18.153835                    28.674135  \n",
       "..                                  ...                          ...  \n",
       "625                           32.263986                    42.194134  \n",
       "626                           33.283508                    42.195912  \n",
       "627                           33.458828                    41.733539  \n",
       "628                           32.974065                    41.133933  \n",
       "629                           31.805530                    41.088062  \n",
       "\n",
       "[1060 rows x 11 columns]"
      ]
     },
     "execution_count": 2,
     "metadata": {},
     "output_type": "execute_result"
    }
   ],
   "source": [
    "with open(\"data/Fecondità.csv\", \"rb\") as f:\n",
    "    dataset=pd.read_csv(f)\n",
    "\n",
    "dataset = dataset.sort_values(by=['Territorio', 'TIME']) # the proximity matrix is built with the prov in alphabetic order\n",
    "\n",
    "dataset"
   ]
  },
  {
   "cell_type": "code",
   "execution_count": 3,
   "id": "332d22fe",
   "metadata": {},
   "outputs": [
    {
     "name": "stdout",
     "output_type": "stream",
     "text": [
      "0.015125712353150588\n",
      "1.3187169811320756\n",
      "(106, 10)\n"
     ]
    },
    {
     "data": {
      "image/png": "[encoded data removed]",
      "text/plain": [
       "<Figure size 640x480 with 1 Axes>"
      ]
     },
     "metadata": {},
     "output_type": "display_data"
    }
   ],
   "source": [
    "Y=np.array(dataset[\"tasso.di.fecondità.totale\"])\n",
    "\n",
    "print(np.var(Y))\n",
    "print(np.mean(Y))\n",
    "\n",
    "\n",
    "y = []\n",
    "y_tmp = np.zeros(10)\n",
    "for prov in np.unique(dataset[\"Territorio\"]):\n",
    "    data_prov = dataset[dataset[\"Territorio\"] == prov]\n",
    "    y_tmp = np.array(data_prov[\"tasso.di.fecondità.totale\"])\n",
    "    y.append(y_tmp)\n",
    "y = np.array(y)\n",
    "# print(y)\n",
    "print(y.shape)\n",
    "plt.hist(Y,bins=20)    \n",
    "plt.show()"
   ]
  },
  {
   "cell_type": "code",
   "execution_count": 4,
   "id": "e3958b46",
   "metadata": {},
   "outputs": [
    {
     "data": {
      "image/png": "[encoded data removed]",
      "text/plain": [
       "<Figure size 640x480 with 5 Axes>"
      ]
     },
     "metadata": {},
     "output_type": "display_data"
    }
   ],
   "source": [
    "P = 5\n",
    "X_list = []\n",
    "# mega matrix with the covariates, da normalizzare forse?\n",
    "X_list.append(np.array(dataset[\"età.media.delle.madri.al.parto\"]))\n",
    "# X_list.append(np.array(dataset[\"età.media.dei.padri.alla.nascita.del.figlio\"]))\n",
    "X_list.append(np.array(dataset[\"tasso.di.inattività.delle.femmine\"]))\n",
    "X_list.append(np.array(dataset[\"tasso.di.inattività.dei.maschi\"]))\n",
    "# X_list.append(np.array(dataset[\"tasso.di.inattività.totale\"]))\n",
    "X_list.append(np.array(dataset[\"tasso.di.occupazione.delle.femmine\"]))\n",
    "X_list.append(np.array(dataset[\"tasso.di.occupazione.dei.maschi\"]))\n",
    "# X_list.append(np.array(dataset[\"tasso.di.occupazione.totale\"]))\n",
    "# da valutare se vanno standardizzate\n",
    "fig, axs = plt.subplots(P)\n",
    "\n",
    "for i in range(P):\n",
    "    axs[i].hist(X_list[i],bins=20)\n",
    "\n",
    "plt.show()"
   ]
  },
  {
   "cell_type": "code",
   "execution_count": 5,
   "id": "d8405fa0",
   "metadata": {},
   "outputs": [],
   "source": [
    "#Standardization on X\n",
    "for i in range(P):\n",
    "    X_list[i] = (X_list[i]-np.mean(X_list[i])) / np.sqrt(np.var(X_list[i]))\n",
    "\n",
    "\n",
    "#Standardization on Y\n",
    "y= (y-np.mean(y))/np.sqrt(np.var(y))"
   ]
  },
  {
   "cell_type": "code",
   "execution_count": 6,
   "id": "d9aa2f72",
   "metadata": {},
   "outputs": [
    {
     "name": "stdout",
     "output_type": "stream",
     "text": [
      "[[[ 1.         -1.38733389  2.05144371  0.30656436 -1.81625192\n",
      "   -0.81711788]\n",
      "  [ 1.         -1.77061906  1.89211824  0.5393075  -1.7347706\n",
      "   -1.14081907]\n",
      "  [ 1.         -1.11355877  1.78561354  1.09128765 -1.80907835\n",
      "   -1.41912648]\n",
      "  ...\n",
      "  [ 1.         -0.18272337  1.69594042  0.33345848 -2.07454665\n",
      "   -1.43529694]\n",
      "  [ 1.         -0.29223342  1.66432349  0.72523738 -1.76815191\n",
      "   -1.50014603]\n",
      "  [ 1.         -0.03670997  1.78846129  1.48582068 -1.84282015\n",
      "   -1.66422814]]\n",
      "\n",
      " [[ 1.         -1.64285734 -0.34660173  0.24677987  0.51836657\n",
      "    0.15248205]\n",
      "  [ 1.         -1.27782385 -0.71508174 -0.21575525  0.60314497\n",
      "    0.12708264]\n",
      "  [ 1.         -0.73027361 -0.41062779  0.02698863  0.15451856\n",
      "    0.059098  ]\n",
      "  ...\n",
      "  [ 1.         -0.20097504 -0.48714728 -0.31928696  0.46379505\n",
      "    0.19264358]\n",
      "  [ 1.          0.03629673 -0.3382982  -0.29482666  0.27341734\n",
      "    0.41537872]\n",
      "  [ 1.          0.10930342 -0.19435256  0.16948911  0.17544987\n",
      "    0.04594432]]\n",
      "\n",
      " [[ 1.         -0.82153198 -0.82850129  0.08918214  0.82145054\n",
      "    0.36244866]\n",
      "  [ 1.         -0.60251189 -0.80411705 -0.75917724  0.65789708\n",
      "    0.69440241]\n",
      "  [ 1.         -0.43824681 -0.94808962 -0.59204811  0.6845386\n",
      "    0.35962553]\n",
      "  ...\n",
      "  [ 1.          1.02188716 -0.88049881 -0.27174229  0.74061298\n",
      "    0.42719633]\n",
      "  [ 1.          0.98538381 -1.06657512 -0.0417592   0.8057809\n",
      "    0.01763631]\n",
      "  [ 1.          1.07664218 -0.64622571  0.24580411  0.62324705\n",
      "    0.13125733]]\n",
      "\n",
      " ...\n",
      "\n",
      " [[ 1.         -0.876287    1.60064127  2.2634764  -1.39659032\n",
      "   -1.49423769]\n",
      "  [ 1.         -0.9492937   1.73222201  2.57051091 -1.60405654\n",
      "   -2.063985  ]\n",
      "  [ 1.         -0.69377026  1.34808979  2.66251556 -1.53181047\n",
      "   -2.34653723]\n",
      "  ...\n",
      "  [ 1.         -0.29223342  1.34738079  2.12792177 -1.24789428\n",
      "   -1.5651785 ]\n",
      "  [ 1.          0.69335701  1.72936933  2.05376554 -1.62429091\n",
      "   -1.73549134]\n",
      "  [ 1.          0.10930342  1.76275784  3.43845342 -1.8217889\n",
      "   -2.46742921]]\n",
      "\n",
      " [[ 1.         -0.56600854 -0.73087234 -1.73946033  0.88700726\n",
      "    1.69986826]\n",
      "  [ 1.         -0.45649849 -0.70517755 -1.48242615  0.75449232\n",
      "    1.31595425]\n",
      "  [ 1.         -0.32873677 -0.44254816 -0.75602134  0.45142667\n",
      "    0.86818977]\n",
      "  ...\n",
      "  [ 1.          0.89412543 -0.75585173 -1.27490136  0.85098559\n",
      "    1.35652793]\n",
      "  [ 1.          0.82111874 -0.87377714 -1.12518452  1.02755155\n",
      "    1.25968441]\n",
      "  [ 1.          1.16790055 -0.61894333 -0.88950456  0.62539093\n",
      "    0.95885136]]\n",
      "\n",
      " [[ 1.         -0.52950519  0.63446331 -0.12627541 -0.4791205\n",
      "    0.06656276]\n",
      "  [ 1.         -0.51125351  0.3423092   0.21541602 -0.41862249\n",
      "   -0.1907165 ]\n",
      "  [ 1.         -0.12796835  0.03413159  0.37471569 -0.26965031\n",
      "   -0.61385003]\n",
      "  ...\n",
      "  [ 1.          0.63860199  0.21945436  0.31430511 -0.19464776\n",
      "   -0.33890312]\n",
      "  [ 1.          0.49258859  0.39251515  0.76692547 -0.25232124\n",
      "   -0.45120311]\n",
      "  [ 1.          1.24090725  0.56108635  0.76021326 -0.39134482\n",
      "   -0.28018426]]]\n"
     ]
    },
    {
     "data": {
      "text/plain": [
       "(106, 10, 6)"
      ]
     },
     "execution_count": 6,
     "metadata": {},
     "output_type": "execute_result"
    }
   ],
   "source": [
    "X=np.ones((1060,P+1))\n",
    "\n",
    "for i in range(P):\n",
    "    X[:,i+1] = X_list[i]\n",
    "\n",
    "X_r = np.reshape(X,(106,10,P+1))\n",
    "print(X_r)\n",
    "X_r.shape"
   ]
  },
  {
   "cell_type": "code",
   "execution_count": 7,
   "id": "fda7ee3b",
   "metadata": {},
   "outputs": [
    {
     "data": {
      "image/png": "[encoded data removed]",
      "text/plain": [
       "<Figure size 640x480 with 5 Axes>"
      ]
     },
     "metadata": {},
     "output_type": "display_data"
    }
   ],
   "source": [
    "fig, axs = plt.subplots(P)\n",
    "\n",
    "for i in range(P):\n",
    "    axs[i].hist(X_list[i],bins=20)\n",
    "\n",
    "plt.show()"
   ]
  },
  {
   "cell_type": "code",
   "execution_count": 8,
   "id": "9ed1db85",
   "metadata": {},
   "outputs": [],
   "source": [
    "I = 106\n",
    "T = 10\n",
    "H = 10\n",
    "\n",
    "new_X = np.zeros((I,T,P+1))\n",
    "new_Y = np.zeros((I,T))\n",
    "\n",
    "for i in range(I):\n",
    "    for t in range(T):\n",
    "        new_X[i,t,:] = X_r[i,(10//T)*t,:]\n",
    "        new_Y[i,t]   = y[i,(10//T)*t]\n",
    "\n",
    "X_r = new_X\n",
    "y = new_Y"
   ]
  },
  {
   "cell_type": "markdown",
   "id": "2e6f9172",
   "metadata": {},
   "source": [
    "# Prepare data for model"
   ]
  },
  {
   "cell_type": "code",
   "execution_count": 9,
   "id": "887c8282",
   "metadata": {},
   "outputs": [
    {
     "name": "stdout",
     "output_type": "stream",
     "text": [
      "True\n"
     ]
    }
   ],
   "source": [
    "with open(\"data/Proximity_matrix.csv\", \"rb\") as f:\n",
    "    W_raw=pd.read_csv(f)\n",
    "    \n",
    "W_raw=np.matrix(W_raw)\n",
    "\n",
    "for i in range(I):\n",
    "    W_raw[i,i] = 0\n",
    "\n",
    "W_raw=np.matrix(W_raw)\n",
    "Wt = W_raw.transpose()\n",
    "(Wt == W_raw).all()\n",
    "\n",
    "# compute Qinv\n",
    "one_vector = np.ones(shape = (I,1))\n",
    "B = np.matmul(W_raw , one_vector)  \n",
    "A =  np.diagflat(np.array(B))\n",
    "W_intermedia = A - W_raw\n",
    "\n",
    "\n",
    "rho = 0.95\n",
    "Q = rho * W_intermedia  + (1-rho) * np.eye(I)\n",
    "Qinv = np.linalg.inv(Q)\n",
    "# Qinv.shape\n",
    "W_intermedia.shape\n",
    "\n",
    "#Qinv must be positive definite\n",
    "for i in range(I):\n",
    "    for j in range(I):\n",
    "        Qinv[j,i] = Qinv[i,j]\n",
    "\n",
    "Qinv=np.matrix(Qinv)\n",
    "Qinvt = Qinv.transpose()\n",
    "print((Qinv == Qinvt).all())"
   ]
  },
  {
   "cell_type": "markdown",
   "id": "eee4301b",
   "metadata": {},
   "source": [
    "# Prior predictive check "
   ]
  },
  {
   "cell_type": "code",
   "execution_count": 10,
   "id": "08f3fb73",
   "metadata": {},
   "outputs": [],
   "source": [
    "# from tensorflow_probability.substrates import numpy as tfp\n",
    "# tfd = tfp.distributions\n",
    "# np.random.seed()\n",
    "\n",
    "# # weight construction\n",
    "# weight = np.zeros(H)\n",
    "# alpha=np.random.gamma(a_alpha,b_alpha)\n",
    "# v = np.zeros(H)\n",
    "# v[0] = np.random.beta(a = 1,b = alpha)\n",
    "# weight[0] = v[0]\n",
    "# for h in range(1,H-1):\n",
    "#     v[h] = np.random.beta(a = 1,b = alpha)\n",
    "#     cumprod = np.cumprod(1 - v[0:h])[h-1]\n",
    "#     weight[h] = v[h]*cumprod\n",
    "    \n",
    "# weight = weight/ np.sum(weight)\n",
    "# # to be chekcked\n",
    "\n",
    "# # betas construction \n",
    "# betas = []\n",
    "# beta = np.zeros(P+1)\n",
    "# for h in range(H):\n",
    "#     beta = np.array(np.random.multivariate_normal(mean=mu_0, cov = sigma_0*np.eye(P+1)))\n",
    "#     betas.append(beta)\n",
    "                                         \n",
    "# betas = np.array(betas)\n",
    "                                         \n",
    "# # tau2\n",
    "# tau2 = tfd.InverseGamma(concentration = a_tau2 , scale = b_tau2).sample()\n",
    "# print(tau2)\n",
    "\n",
    "# xi=np.random.beta(a=a_xi,b=b_xi)\n",
    "# # random effects construction \n",
    "# W=np.zeros((I,T))\n",
    "# diag_matrix_xis= xi*np.eye(I) #diag(xis)                                          \n",
    "# W[:,0]=np.random.multivariate_normal(mean=np.zeros(I),cov=tau2*Qinv)\n",
    "# for t in range(T-1):\n",
    "#     W[:,t+1]=np.random.multivariate_normal(mean=np.matmul(diag_matrix_xis,W[:,t]), cov=tau2*Qinv)                                        \n",
    "                    \n",
    "# # sigma\n",
    "# sigma2 = tfd.InverseGamma(concentration = a_sigma2 , scale = b_sigma2).sample()                                     \n",
    "\n",
    "# # y construction \n",
    "# y_p = np.zeros((I*T))                                   \n",
    "# for i in range(I):                                   \n",
    "#     for h in range(H):\n",
    "#         y_p[i*T:(i+1)*T] += weight[h]*np.random.multivariate_normal(mean=np.matmul(X_r[i],betas[h]) + W[i,:], cov = sigma2*np.eye(T))\n",
    "# fig, axs = plt.subplots(2)                                         \n",
    "# axs[0].hist(y_p,bins=25)\n",
    "# axs[1].hist(y.reshape(I*T),bins=25)   # lo voglio simile all'istogramma sopra \n",
    "\n"
   ]
  },
  {
   "cell_type": "code",
   "execution_count": 11,
   "id": "e356c788",
   "metadata": {},
   "outputs": [],
   "source": [
    "mu_0_mean = 0*np.ones(P+1)\n",
    "mu_0_var = 9\n",
    "a_sigma2_0 = 3\n",
    "b_sigma2_0 = 2\n",
    "mu_w_1 = np.zeros(I)\n",
    "a_alpha = 3\n",
    "b_alpha = 3\n",
    "a_tau2 = 3\n",
    "b_tau2 = 0.5\n",
    "a_sigma2 = 3\n",
    "b_sigma2 = 1\n",
    "rho = 0.95\n",
    "mu_xi = 0\n",
    "sigma2_xi = 4\n",
    "\n",
    "data = {\n",
    "    \"I\": I,\n",
    "    \"T\": T,\n",
    "    \"P\": P,\n",
    "    \"H\": H,\n",
    "    \"y\": y,\n",
    "    \"X\": X_r,\n",
    "    \"mu_0_mean\": mu_0_mean,\n",
    "    \"mu_0_var\": mu_0_var,\n",
    "    \"a_sigma2_0\": a_sigma2_0,\n",
    "    \"b_sigma2_0\": b_sigma2_0,\n",
    "    \"mu_w_1\": mu_w_1,\n",
    "    \"a_alpha\": a_alpha,\n",
    "    \"b_alpha\": b_alpha,\n",
    "    \"a_tau2\": a_tau2,\n",
    "    \"b_tau2\": b_tau2,\n",
    "    \"a_sigma2\": a_sigma2,\n",
    "    \"b_sigma2\": b_sigma2,\n",
    "    \"rho\": rho,\n",
    "    \"mu_xi\": mu_xi,\n",
    "    \"sigma2_xi\": sigma2_xi,\n",
    "    \"inv_Q\": Qinv\n",
    "}"
   ]
  },
  {
   "cell_type": "markdown",
   "id": "c98dac42",
   "metadata": {},
   "source": [
    "# Model"
   ]
  },
  {
   "cell_type": "code",
   "execution_count": 12,
   "id": "64e0fe29",
   "metadata": {},
   "outputs": [
    {
     "name": "stderr",
     "output_type": "stream",
     "text": [
      "15:31:12 - cmdstanpy - INFO - compiling stan file /home/daan/bayesian-project/stan_files/model.stan to exe file /home/daan/bayesian-project/stan_files/model\n",
      "15:31:50 - cmdstanpy - INFO - compiled model executable: /home/daan/bayesian-project/stan_files/model\n"
     ]
    }
   ],
   "source": [
    "dp_mix_stan = \"\"\"\n",
    "data\n",
    "{\n",
    "    int I; // number of areal locations\n",
    "    int T; // number of time steps\n",
    "    int P; // number of covariates\n",
    "    int H; // truncation of stick breaking construction dp\n",
    "    \n",
    "    array[I] vector[T] y; // value of interest\n",
    "    array[I] matrix[T,P+1] X; // covariates matrices for each province\n",
    "      \n",
    "    // hyperpar vector of regressors\n",
    "    vector[P+1] mu_0_mean;\n",
    "    real        mu_0_var;\n",
    "    real        a_sigma2_0;\n",
    "    real        b_sigma2_0;\n",
    "    \n",
    "    // mean of w_1 (random effect for every province at time 1)\n",
    "    vector[I] mu_w_1;\n",
    "    \n",
    "    // alpha\n",
    "    real a_alpha;\n",
    "    real b_alpha;\n",
    "    \n",
    "    // tau^2\n",
    "    real a_tau2;\n",
    "    real b_tau2;\n",
    "    \n",
    "    // sigma^2\n",
    "    real a_sigma2;\n",
    "    real b_sigma2;\n",
    "    \n",
    "    // rho \n",
    "    real rho;\n",
    "    \n",
    "    //xis\n",
    "    real mu_xi;\n",
    "    real sigma2_xi;\n",
    "\n",
    "    // Qinv\n",
    "    matrix[I,I] inv_Q;\n",
    "}\n",
    "\n",
    "transformed data {\n",
    "    matrix[I, I] L;\n",
    "    L = cholesky_decompose(inv_Q);\n",
    "    \n",
    "    real mu_0_sd;\n",
    "    mu_0_sd = sqrt(mu_0_var);\n",
    "    \n",
    "    real sigma_xi;\n",
    "    sigma_xi = sqrt(sigma2_xi);\n",
    "}\n",
    "\n",
    "parameters\n",
    "{\n",
    "    real<lower=0> alpha;\n",
    "    real<lower=0> sigma2; \n",
    "    real<lower=0> tau2;\n",
    "    \n",
    "    vector[P+1]   mu_0;\n",
    "    real<lower=0> sigma2_0;\n",
    "    \n",
    "    // autoregressive coefficient construction\n",
    "    real xi;\n",
    "    \n",
    "    // betas for the mixture of the dirichlet process\n",
    "    array[H] vector[P+1] betas; \n",
    "\n",
    "    // for the construction of the dirichlet process\n",
    "    vector<lower=0,upper=1>[H-1] vs;\n",
    "    \n",
    "    // for the random effect construction \n",
    "    array[T] vector[I] w_raw;\n",
    "}\n",
    "\n",
    "transformed parameters\n",
    "{   \n",
    "    // weights stick breaking construction\n",
    "    simplex[H] omegas; \n",
    "    \n",
    "    // sbc stuff\n",
    "    vector[H-1] cumprod_one_mv;    \n",
    "    cumprod_one_mv = exp(cumulative_sum(log1m(vs)));\n",
    "    \n",
    "    omegas[1] = vs[1];\n",
    "    omegas[2:(H-1)] = vs[2:(H-1)] .* cumprod_one_mv[1:(H-2)];\n",
    "    omegas[H] = cumprod_one_mv[H-1];\n",
    "    \n",
    "    // random effects tmp\n",
    "    matrix[I,T]                ws_tmp;\n",
    "    \n",
    "    ws_tmp[1:I,1] =  mu_w_1 + L*w_raw[1];\n",
    "    \n",
    "    for (t in 2:T)\n",
    "        ws_tmp[1:I,t] = ws_tmp[1:I,t-1]*xi + L*w_raw[t]; \n",
    "    \n",
    "    matrix[T,I]   ws = (ws_tmp)'; //otherwise I have to transpose in the for loop at each iteration\n",
    "    \n",
    "    // Stan wants std\n",
    "    real sigma   = sqrt(sigma2);\n",
    "    real tau     = sqrt(tau2);\n",
    "    real sigma_0 = sqrt(sigma2_0);\n",
    "}\n",
    "\n",
    "model\n",
    "{\n",
    "    alpha    ~ gamma(a_alpha,b_alpha);\n",
    "    sigma2   ~ inv_gamma(a_sigma2,b_sigma2);\n",
    "    tau2     ~ inv_gamma(a_tau2,b_tau2);\n",
    "    mu_0     ~ normal(mu_0_mean, mu_0_sd);\n",
    "    sigma2_0 ~ inv_gamma(a_sigma2_0, b_sigma2_0);\n",
    "    vs       ~ beta(1,alpha); \n",
    "    xi       ~ normal(mu_xi, sigma_xi);\n",
    "    \n",
    "    w_raw[1] ~ normal(0, tau); \n",
    "    \n",
    "    for (t in 2:T)\n",
    "        w_raw[t] ~ normal(0, tau);\n",
    "    \n",
    "    for (h in 1:H)\n",
    "        betas[h] ~ normal(mu_0, sigma_0);\n",
    "    \n",
    "    vector[H] log_probs;\n",
    "    \n",
    "    for (i in 1:I) {\n",
    "        \n",
    "        for (h in 1:H) \n",
    "    \n",
    "            log_probs[h] = log(omegas[h]) + normal_lpdf(y[i] | X[i]*betas[h] + ws[1:T,i], sigma);\n",
    "        \n",
    "        target += log_sum_exp(log_probs);\n",
    "    }\n",
    "}\n",
    "\n",
    "generated quantities \n",
    "{   \n",
    "    // vector of cluster allocations\n",
    "    vector[I] s;\n",
    "    \n",
    "    // log likelihood for each areal location \n",
    "    vector[I] log_lik;\n",
    "    \n",
    "    array[I] vector[H] log_probs;\n",
    "    \n",
    "    for (i in 1:I) \n",
    "    {\n",
    "        for (h in 1:H) \n",
    "            log_probs[i,h] = log(omegas[h]) + normal_lpdf(y[i] | X[i]*betas[h] + ws[1:T,i], sigma);\n",
    "        \n",
    "        s[i] = categorical_rng(softmax(log_probs[i]));\n",
    "        log_lik[i] = log_sum_exp(log_probs[i]);\n",
    "    }\n",
    "    \n",
    "        \n",
    "}\n",
    "\"\"\"\n",
    "stan_file = \"stan_files/model.stan\"\n",
    "\n",
    "with open(stan_file, \"w\") as fp:\n",
    "    fp.write(dp_mix_stan)\n",
    "    \n",
    "model = CmdStanModel(stan_file=stan_file)"
   ]
  },
  {
   "cell_type": "code",
   "execution_count": 13,
   "id": "cfa2ec4f",
   "metadata": {},
   "outputs": [
    {
     "name": "stderr",
     "output_type": "stream",
     "text": [
      "15:31:50 - cmdstanpy - INFO - CmdStan start processing\n"
     ]
    },
    {
     "data": {
      "application/vnd.jupyter.widget-view+json": {
       "model_id": "d8173156893c4ba4ac3ca08b70740ce3",
       "version_major": 2,
       "version_minor": 0
      },
      "text/plain": [
       "chain 1 |          | 00:00 Status"
      ]
     },
     "metadata": {},
     "output_type": "display_data"
    },
    {
     "data": {
      "application/vnd.jupyter.widget-view+json": {
       "model_id": "755a135151c84f099b9d3307b6b06847",
       "version_major": 2,
       "version_minor": 0
      },
      "text/plain": [
       "chain 2 |          | 00:00 Status"
      ]
     },
     "metadata": {},
     "output_type": "display_data"
    },
    {
     "data": {
      "application/vnd.jupyter.widget-view+json": {
       "model_id": "222fea8b2d30498aa3ddc50e51acfdb4",
       "version_major": 2,
       "version_minor": 0
      },
      "text/plain": [
       "chain 3 |          | 00:00 Status"
      ]
     },
     "metadata": {},
     "output_type": "display_data"
    },
    {
     "data": {
      "application/vnd.jupyter.widget-view+json": {
       "model_id": "60b8298a54484b6baba7a78bd3efcb46",
       "version_major": 2,
       "version_minor": 0
      },
      "text/plain": [
       "chain 4 |          | 00:00 Status"
      ]
     },
     "metadata": {},
     "output_type": "display_data"
    },
    {
     "name": "stdout",
     "output_type": "stream",
     "text": [
      "                                                                                                                                                                                                                                                                                                                                "
     ]
    },
    {
     "name": "stderr",
     "output_type": "stream",
     "text": [
      "15:59:36 - cmdstanpy - INFO - CmdStan done processing.\n",
      "15:59:36 - cmdstanpy - WARNING - Non-fatal error during sampling:\n",
      "Exception: normal_lpdf: Scale parameter is 0, but must be positive! (in '/home/daan/bayesian-project/stan_files/model.stan', line 116, column 4 to column 30)\n",
      "Exception: normal_lpdf: Scale parameter is 0, but must be positive! (in '/home/daan/bayesian-project/stan_files/model.stan', line 116, column 4 to column 30)\n",
      "Consider re-running with show_console=True if the above output is unclear!\n"
     ]
    },
    {
     "name": "stdout",
     "output_type": "stream",
     "text": [
      "\n"
     ]
    }
   ],
   "source": [
    "fit = model.sample(data\n",
    "                    , seed = [784,215,8955,9841]\n",
    "#                     , iter_warmup = 10000\n",
    "#                     , iter_sampling = 10000\n",
    "#                     , adapt_init_phase = 500\n",
    "#                     , adapt_metric_window = 1500\n",
    "#                     , adapt_step_size = 1500\n",
    "#                     , adapt_delta=0.9\n",
    "#                     , step_size = 0.5\n",
    "#                     , max_treedepth = 10\n",
    "#                     , show_console = True\n",
    "                   )"
   ]
  },
  {
   "cell_type": "code",
   "execution_count": 14,
   "id": "7be5e843",
   "metadata": {},
   "outputs": [],
   "source": [
    "fit_az = az.from_cmdstanpy(fit)"
   ]
  },
  {
   "cell_type": "markdown",
   "id": "217c5ce0",
   "metadata": {},
   "source": [
    "# Model Saving"
   ]
  },
  {
   "cell_type": "code",
   "execution_count": 23,
   "id": "0b0ea007",
   "metadata": {},
   "outputs": [
    {
     "data": {
      "text/plain": [
       "(4000, 106)"
      ]
     },
     "execution_count": 23,
     "metadata": {},
     "output_type": "execute_result"
    }
   ],
   "source": [
    "s = (fit.s).astype(int)\n",
    "\n",
    "np.savetxt(\"outputs/posterior_s.csv\", s, delimiter=\",\")\n",
    "s.shape"
   ]
  },
  {
   "cell_type": "code",
   "execution_count": 24,
   "id": "19fa82ee",
   "metadata": {},
   "outputs": [],
   "source": [
    "np.savetxt(\"outputs/posterior_xi.csv\", fit.xi, delimiter=\",\")\n",
    "np.savetxt(\"outputs/posterior_alpha.csv\", fit.alpha, delimiter=\",\")"
   ]
  },
  {
   "cell_type": "markdown",
   "id": "62ce7ea5",
   "metadata": {},
   "source": [
    "# Posterior inference"
   ]
  },
  {
   "cell_type": "code",
   "execution_count": 18,
   "id": "3d3fb2dc",
   "metadata": {
    "scrolled": false
   },
   "outputs": [
    {
     "data": {
      "image/png": "[encoded data removed]",
      "text/plain": [
       "<Figure size 1200x200 with 2 Axes>"
      ]
     },
     "metadata": {},
     "output_type": "display_data"
    }
   ],
   "source": [
    "az.plot_trace(fit_az,var_names=[\"xi\"],\n",
    "              compact = False\n",
    "             )\n",
    "plt.show()"
   ]
  },
  {
   "cell_type": "code",
   "execution_count": 19,
   "id": "90b05934",
   "metadata": {},
   "outputs": [
    {
     "data": {
      "text/plain": [
       "array([[[-0.456806 ,  0.809496 ],\n",
       "        [-0.494752 , -0.115636 ],\n",
       "        [-0.357255 ,  0.534332 ],\n",
       "        [-0.394122 ,  0.281867 ],\n",
       "        [-0.185318 ,  0.730948 ],\n",
       "        [-0.235024 ,  0.331895 ]],\n",
       "\n",
       "       [[-0.574731 ,  0.731586 ],\n",
       "        [-0.407598 , -0.160805 ],\n",
       "        [-0.198605 ,  0.54404  ],\n",
       "        [-0.213418 ,  0.2752   ],\n",
       "        [-0.0551976,  0.739546 ],\n",
       "        [-0.190554 ,  0.29542  ]],\n",
       "\n",
       "       [[-0.745298 ,  1.23964  ],\n",
       "        [-0.59913  , -0.113403 ],\n",
       "        [-0.514648 ,  0.732603 ],\n",
       "        [-0.710327 ,  0.163676 ],\n",
       "        [-0.39738  ,  0.872295 ],\n",
       "        [-0.649892 ,  0.450891 ]],\n",
       "\n",
       "       [[-0.893989 ,  1.20149  ],\n",
       "        [-0.642619 , -0.0388253],\n",
       "        [-0.466869 ,  0.832494 ],\n",
       "        [-0.797094 ,  0.30026  ],\n",
       "        [-0.555583 ,  0.88609  ],\n",
       "        [-0.781636 ,  0.490349 ]],\n",
       "\n",
       "       [[-0.92538  ,  1.12883  ],\n",
       "        [-0.731569 ,  0.680496 ],\n",
       "        [-0.684781 ,  0.91271  ],\n",
       "        [-1.05797  ,  0.341827 ],\n",
       "        [-0.613567 ,  1.04544  ],\n",
       "        [-0.936821 ,  0.644867 ]],\n",
       "\n",
       "       [[-0.939135 ,  1.27059  ],\n",
       "        [-0.881731 ,  0.914064 ],\n",
       "        [-0.777699 ,  1.03275  ],\n",
       "        [-1.15079  ,  0.539765 ],\n",
       "        [-0.71901  ,  1.1846   ],\n",
       "        [-1.0141   ,  0.73747  ]],\n",
       "\n",
       "       [[-0.983234 ,  1.21982  ],\n",
       "        [-0.93307  ,  0.875015 ],\n",
       "        [-0.870669 ,  0.960626 ],\n",
       "        [-1.09024  ,  0.588721 ],\n",
       "        [-0.768179 ,  1.19557  ],\n",
       "        [-1.0712   ,  0.745072 ]],\n",
       "\n",
       "       [[-0.939918 ,  1.22764  ],\n",
       "        [-1.07129  ,  0.929202 ],\n",
       "        [-0.967661 ,  1.03863  ],\n",
       "        [-1.23821  ,  0.728486 ],\n",
       "        [-0.782545 ,  1.24504  ],\n",
       "        [-1.04711  ,  0.905945 ]],\n",
       "\n",
       "       [[-0.870407 ,  1.29952  ],\n",
       "        [-1.07897  ,  0.915316 ],\n",
       "        [-0.88656  ,  1.06922  ],\n",
       "        [-1.18858  ,  0.720556 ],\n",
       "        [-0.718579 ,  1.37663  ],\n",
       "        [-0.962545 ,  0.976751 ]],\n",
       "\n",
       "       [[-0.822439 ,  1.34844  ],\n",
       "        [-1.08406  ,  0.979327 ],\n",
       "        [-0.845151 ,  1.06639  ],\n",
       "        [-1.21641  ,  0.676136 ],\n",
       "        [-0.794154 ,  1.23873  ],\n",
       "        [-0.997937 ,  0.980578 ]]])"
      ]
     },
     "execution_count": 19,
     "metadata": {},
     "output_type": "execute_result"
    }
   ],
   "source": [
    "# posterior credible interval per i beta ma se li vuoi anche per i random effects\n",
    "hdis = az.hdi(fit, var_names=[\"betas\"]).betas.values\n",
    "hdis"
   ]
  },
  {
   "cell_type": "code",
   "execution_count": 20,
   "id": "3cee1362",
   "metadata": {},
   "outputs": [
    {
     "name": "stderr",
     "output_type": "stream",
     "text": [
      "/home/daan/.local/lib/python3.10/site-packages/arviz/stats/stats.py:1645: UserWarning: For one or more samples the posterior variance of the log predictive densities exceeds 0.4. This could be indication of WAIC starting to fail. \n",
      "See http://arxiv.org/abs/1507.04544 for details\n",
      "  warnings.warn(\n"
     ]
    },
    {
     "data": {
      "text/plain": [
       "Computed from 4000 posterior samples and 106 observations log-likelihood matrix.\n",
       "\n",
       "              Estimate       SE\n",
       "deviance_waic   353.53    64.31\n",
       "p_waic          282.42        -\n",
       "\n",
       "There has been a warning during the calculation. Please check the results."
      ]
     },
     "execution_count": 20,
     "metadata": {},
     "output_type": "execute_result"
    }
   ],
   "source": [
    "# computation of WAIC \n",
    "az.waic(fit, scale=\"negative_log\")"
   ]
  },
  {
   "cell_type": "code",
   "execution_count": 21,
   "id": "6ff97431",
   "metadata": {},
   "outputs": [
    {
     "name": "stderr",
     "output_type": "stream",
     "text": [
      "/home/daan/.local/lib/python3.10/site-packages/arviz/stats/stats.py:803: UserWarning: Estimated shape parameter of Pareto distribution is greater than 0.7 for one or more samples. You should consider using a more robust model, this is because importance sampling is less likely to work well if the marginal posterior and LOO posterior are very different. This is more likely to happen with a non-robust model and highly influential observations.\n",
      "  warnings.warn(\n"
     ]
    },
    {
     "data": {
      "text/plain": [
       "Computed from 4000 posterior samples and 106 observations log-likelihood matrix.\n",
       "\n",
       "         Estimate       SE\n",
       "elpd_loo  -215.07    32.41\n",
       "p_loo      320.72        -\n",
       "\n",
       "There has been a warning during the calculation. Please check the results.\n",
       "------\n",
       "\n",
       "Pareto k diagnostic values:\n",
       "                         Count   Pct.\n",
       "(-Inf, 0.5]   (good)        0    0.0%\n",
       " (0.5, 0.7]   (ok)          8    7.5%\n",
       "   (0.7, 1]   (bad)        62   58.5%\n",
       "   (1, Inf)   (very bad)   36   34.0%"
      ]
     },
     "execution_count": 21,
     "metadata": {},
     "output_type": "execute_result"
    }
   ],
   "source": [
    "#computation of LOO\n",
    "az.loo(fit, scale=\"negative_log\")"
   ]
  }
 ],
 "metadata": {
  "kernelspec": {
   "display_name": "Python 3 (ipykernel)",
   "language": "python",
   "name": "python3"
  },
  "language_info": {
   "codemirror_mode": {
    "name": "ipython",
    "version": 3
   },
   "file_extension": ".py",
   "mimetype": "text/x-python",
   "name": "python",
   "nbconvert_exporter": "python",
   "pygments_lexer": "ipython3",
   "version": "3.10.6"
  }
 },
 "nbformat": 4,
 "nbformat_minor": 5
}
