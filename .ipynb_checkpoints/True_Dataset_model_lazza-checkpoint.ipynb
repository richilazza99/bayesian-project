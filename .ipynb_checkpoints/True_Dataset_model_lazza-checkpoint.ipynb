{
 "cells": [
  {
   "cell_type": "markdown",
   "id": "3598ee3a",
   "metadata": {},
   "source": [
    " # Import Dataset"
   ]
  },
  {
   "cell_type": "code",
   "execution_count": 4,
   "id": "78a1b6b4",
   "metadata": {},
   "outputs": [],
   "source": [
    "import pandas as pd\n",
    "import numpy as np"
   ]
  },
  {
   "cell_type": "code",
   "execution_count": 5,
   "id": "cc4a9a94",
   "metadata": {},
   "outputs": [],
   "source": [
    "from cmdstanpy import CmdStanModel\n",
    "import arviz as az\n",
    "\n",
    "import matplotlib.pyplot as plt"
   ]
  },
  {
   "cell_type": "code",
   "execution_count": 6,
   "id": "f8d7641c",
   "metadata": {},
   "outputs": [
    {
     "data": {
      "text/html": [
       "<div>\n",
       "<style scoped>\n",
       "    .dataframe tbody tr th:only-of-type {\n",
       "        vertical-align: middle;\n",
       "    }\n",
       "\n",
       "    .dataframe tbody tr th {\n",
       "        vertical-align: top;\n",
       "    }\n",
       "\n",
       "    .dataframe thead th {\n",
       "        text-align: right;\n",
       "    }\n",
       "</style>\n",
       "<table border=\"1\" class=\"dataframe\">\n",
       "  <thead>\n",
       "    <tr style=\"text-align: right;\">\n",
       "      <th></th>\n",
       "      <th>Territorio</th>\n",
       "      <th>TIME</th>\n",
       "      <th>età.media.delle.madri.al.parto</th>\n",
       "      <th>età.media.dei.padri.alla.nascita.del.figlio</th>\n",
       "      <th>tasso.di.fecondità.totale</th>\n",
       "      <th>tasso.di.inattività.dei.maschi</th>\n",
       "      <th>tasso.di.inattività.delle.femmine</th>\n",
       "      <th>tasso.di.inattività.totale</th>\n",
       "      <th>tasso.di.occupazione.dei.maschi</th>\n",
       "      <th>tasso.di.occupazione.delle.femmine</th>\n",
       "      <th>tasso.di.occupazione.totale</th>\n",
       "    </tr>\n",
       "  </thead>\n",
       "  <tbody>\n",
       "    <tr>\n",
       "      <th>930</th>\n",
       "      <td>Agrigento</td>\n",
       "      <td>2011</td>\n",
       "      <td>30.94</td>\n",
       "      <td>34.80</td>\n",
       "      <td>1.37</td>\n",
       "      <td>42.911800</td>\n",
       "      <td>75.561168</td>\n",
       "      <td>59.924924</td>\n",
       "      <td>47.392418</td>\n",
       "      <td>19.828757</td>\n",
       "      <td>33.029603</td>\n",
       "    </tr>\n",
       "    <tr>\n",
       "      <th>931</th>\n",
       "      <td>Agrigento</td>\n",
       "      <td>2012</td>\n",
       "      <td>30.73</td>\n",
       "      <td>34.57</td>\n",
       "      <td>1.35</td>\n",
       "      <td>43.934839</td>\n",
       "      <td>74.366121</td>\n",
       "      <td>59.780301</td>\n",
       "      <td>45.282895</td>\n",
       "      <td>20.513632</td>\n",
       "      <td>32.385627</td>\n",
       "    </tr>\n",
       "    <tr>\n",
       "      <th>932</th>\n",
       "      <td>Agrigento</td>\n",
       "      <td>2013</td>\n",
       "      <td>31.09</td>\n",
       "      <td>34.78</td>\n",
       "      <td>1.27</td>\n",
       "      <td>46.361107</td>\n",
       "      <td>73.567265</td>\n",
       "      <td>60.518499</td>\n",
       "      <td>43.469198</td>\n",
       "      <td>19.889053</td>\n",
       "      <td>31.198656</td>\n",
       "    </tr>\n",
       "    <tr>\n",
       "      <th>933</th>\n",
       "      <td>Agrigento</td>\n",
       "      <td>2014</td>\n",
       "      <td>30.99</td>\n",
       "      <td>35.06</td>\n",
       "      <td>1.33</td>\n",
       "      <td>47.098738</td>\n",
       "      <td>72.427712</td>\n",
       "      <td>60.272133</td>\n",
       "      <td>39.673492</td>\n",
       "      <td>20.296449</td>\n",
       "      <td>29.595648</td>\n",
       "    </tr>\n",
       "    <tr>\n",
       "      <th>934</th>\n",
       "      <td>Agrigento</td>\n",
       "      <td>2015</td>\n",
       "      <td>31.14</td>\n",
       "      <td>34.97</td>\n",
       "      <td>1.27</td>\n",
       "      <td>45.169256</td>\n",
       "      <td>75.916130</td>\n",
       "      <td>61.148536</td>\n",
       "      <td>40.057236</td>\n",
       "      <td>18.153835</td>\n",
       "      <td>28.674135</td>\n",
       "    </tr>\n",
       "    <tr>\n",
       "      <th>...</th>\n",
       "      <td>...</td>\n",
       "      <td>...</td>\n",
       "      <td>...</td>\n",
       "      <td>...</td>\n",
       "      <td>...</td>\n",
       "      <td>...</td>\n",
       "      <td>...</td>\n",
       "      <td>...</td>\n",
       "      <td>...</td>\n",
       "      <td>...</td>\n",
       "      <td>...</td>\n",
       "    </tr>\n",
       "    <tr>\n",
       "      <th>625</th>\n",
       "      <td>Viterbo</td>\n",
       "      <td>2016</td>\n",
       "      <td>31.99</td>\n",
       "      <td>35.76</td>\n",
       "      <td>1.23</td>\n",
       "      <td>39.518267</td>\n",
       "      <td>60.635768</td>\n",
       "      <td>50.408778</td>\n",
       "      <td>52.769263</td>\n",
       "      <td>32.263986</td>\n",
       "      <td>42.194134</td>\n",
       "    </tr>\n",
       "    <tr>\n",
       "      <th>626</th>\n",
       "      <td>Viterbo</td>\n",
       "      <td>2017</td>\n",
       "      <td>32.17</td>\n",
       "      <td>35.73</td>\n",
       "      <td>1.16</td>\n",
       "      <td>41.158020</td>\n",
       "      <td>61.241767</td>\n",
       "      <td>51.511845</td>\n",
       "      <td>51.680541</td>\n",
       "      <td>33.283508</td>\n",
       "      <td>42.195912</td>\n",
       "    </tr>\n",
       "    <tr>\n",
       "      <th>627</th>\n",
       "      <td>Viterbo</td>\n",
       "      <td>2018</td>\n",
       "      <td>32.05</td>\n",
       "      <td>35.64</td>\n",
       "      <td>1.20</td>\n",
       "      <td>42.945825</td>\n",
       "      <td>61.820030</td>\n",
       "      <td>52.659989</td>\n",
       "      <td>50.508888</td>\n",
       "      <td>33.458828</td>\n",
       "      <td>41.733539</td>\n",
       "    </tr>\n",
       "    <tr>\n",
       "      <th>628</th>\n",
       "      <td>Viterbo</td>\n",
       "      <td>2019</td>\n",
       "      <td>31.97</td>\n",
       "      <td>35.51</td>\n",
       "      <td>1.11</td>\n",
       "      <td>44.935350</td>\n",
       "      <td>63.118101</td>\n",
       "      <td>54.287825</td>\n",
       "      <td>49.777042</td>\n",
       "      <td>32.974065</td>\n",
       "      <td>41.133933</td>\n",
       "    </tr>\n",
       "    <tr>\n",
       "      <th>629</th>\n",
       "      <td>Viterbo</td>\n",
       "      <td>2020</td>\n",
       "      <td>32.38</td>\n",
       "      <td>35.89</td>\n",
       "      <td>1.09</td>\n",
       "      <td>44.905846</td>\n",
       "      <td>64.382497</td>\n",
       "      <td>54.909631</td>\n",
       "      <td>50.891552</td>\n",
       "      <td>31.805530</td>\n",
       "      <td>41.088062</td>\n",
       "    </tr>\n",
       "  </tbody>\n",
       "</table>\n",
       "<p>1060 rows × 11 columns</p>\n",
       "</div>"
      ],
      "text/plain": [
       "    Territorio  TIME  età.media.delle.madri.al.parto  \\\n",
       "930  Agrigento  2011                           30.94   \n",
       "931  Agrigento  2012                           30.73   \n",
       "932  Agrigento  2013                           31.09   \n",
       "933  Agrigento  2014                           30.99   \n",
       "934  Agrigento  2015                           31.14   \n",
       "..         ...   ...                             ...   \n",
       "625    Viterbo  2016                           31.99   \n",
       "626    Viterbo  2017                           32.17   \n",
       "627    Viterbo  2018                           32.05   \n",
       "628    Viterbo  2019                           31.97   \n",
       "629    Viterbo  2020                           32.38   \n",
       "\n",
       "     età.media.dei.padri.alla.nascita.del.figlio  tasso.di.fecondità.totale  \\\n",
       "930                                        34.80                       1.37   \n",
       "931                                        34.57                       1.35   \n",
       "932                                        34.78                       1.27   \n",
       "933                                        35.06                       1.33   \n",
       "934                                        34.97                       1.27   \n",
       "..                                           ...                        ...   \n",
       "625                                        35.76                       1.23   \n",
       "626                                        35.73                       1.16   \n",
       "627                                        35.64                       1.20   \n",
       "628                                        35.51                       1.11   \n",
       "629                                        35.89                       1.09   \n",
       "\n",
       "     tasso.di.inattività.dei.maschi  tasso.di.inattività.delle.femmine  \\\n",
       "930                       42.911800                          75.561168   \n",
       "931                       43.934839                          74.366121   \n",
       "932                       46.361107                          73.567265   \n",
       "933                       47.098738                          72.427712   \n",
       "934                       45.169256                          75.916130   \n",
       "..                              ...                                ...   \n",
       "625                       39.518267                          60.635768   \n",
       "626                       41.158020                          61.241767   \n",
       "627                       42.945825                          61.820030   \n",
       "628                       44.935350                          63.118101   \n",
       "629                       44.905846                          64.382497   \n",
       "\n",
       "     tasso.di.inattività.totale  tasso.di.occupazione.dei.maschi  \\\n",
       "930                   59.924924                        47.392418   \n",
       "931                   59.780301                        45.282895   \n",
       "932                   60.518499                        43.469198   \n",
       "933                   60.272133                        39.673492   \n",
       "934                   61.148536                        40.057236   \n",
       "..                          ...                              ...   \n",
       "625                   50.408778                        52.769263   \n",
       "626                   51.511845                        51.680541   \n",
       "627                   52.659989                        50.508888   \n",
       "628                   54.287825                        49.777042   \n",
       "629                   54.909631                        50.891552   \n",
       "\n",
       "     tasso.di.occupazione.delle.femmine  tasso.di.occupazione.totale  \n",
       "930                           19.828757                    33.029603  \n",
       "931                           20.513632                    32.385627  \n",
       "932                           19.889053                    31.198656  \n",
       "933                           20.296449                    29.595648  \n",
       "934                           18.153835                    28.674135  \n",
       "..                                  ...                          ...  \n",
       "625                           32.263986                    42.194134  \n",
       "626                           33.283508                    42.195912  \n",
       "627                           33.458828                    41.733539  \n",
       "628                           32.974065                    41.133933  \n",
       "629                           31.805530                    41.088062  \n",
       "\n",
       "[1060 rows x 11 columns]"
      ]
     },
     "execution_count": 6,
     "metadata": {},
     "output_type": "execute_result"
    }
   ],
   "source": [
    "with open(\"fecondita_finale\", \"rb\") as f:\n",
    "    dataset=pd.read_csv(f)\n",
    "    \n",
    "dataset = dataset.sort_values(by=['Territorio', 'TIME'])\n",
    "dataset"
   ]
  },
  {
   "cell_type": "code",
   "execution_count": 7,
   "id": "332d22fe",
   "metadata": {},
   "outputs": [
    {
     "name": "stdout",
     "output_type": "stream",
     "text": [
      "[[1.37 1.35 1.27 ... 1.29 1.24 1.26]\n",
      " [1.37 1.36 1.3  ... 1.22 1.17 1.15]\n",
      " [1.44 1.43 1.36 ... 1.24 1.21 1.21]\n",
      " ...\n",
      " [1.28 1.36 1.24 ... 1.29 1.25 1.3 ]\n",
      " [1.51 1.53 1.47 ... 1.39 1.33 1.34]\n",
      " [1.31 1.31 1.23 ... 1.2  1.11 1.09]]\n",
      "(106, 10)\n"
     ]
    },
    {
     "data": {
      "image/png": "[encoded data removed]",
      "text/plain": [
       "<Figure size 640x480 with 1 Axes>"
      ]
     },
     "metadata": {},
     "output_type": "display_data"
    }
   ],
   "source": [
    "Y=np.array(dataset[\"tasso.di.fecondità.totale\"])\n",
    "y = []\n",
    "y_tmp = np.zeros(10)\n",
    "for prov in np.unique(dataset[\"Territorio\"]):\n",
    "    data_prov = dataset[dataset[\"Territorio\"] == prov]\n",
    "    y_tmp = np.array(data_prov[\"tasso.di.fecondità.totale\"])\n",
    "    y.append(y_tmp)\n",
    "y = np.array(y)\n",
    "print(y)\n",
    "print(y.shape)\n",
    "plt.hist(Y)    \n",
    "plt.show()"
   ]
  },
  {
   "cell_type": "code",
   "execution_count": 38,
   "id": "fa73cf50",
   "metadata": {},
   "outputs": [],
   "source": [
    "# if you want to normalize the answer\n",
    "#maxY=np.max(Y)\n",
    "#minY=np.min(Y)\n",
    "#Y=(Y-minY)/(maxY-minY)"
   ]
  },
  {
   "cell_type": "code",
   "execution_count": 49,
   "id": "e3958b46",
   "metadata": {},
   "outputs": [
    {
     "data": {
      "image/png": "[encoded data removed]",
      "text/plain": [
       "<Figure size 432x288 with 3 Axes>"
      ]
     },
     "metadata": {
      "needs_background": "light"
     },
     "output_type": "display_data"
    }
   ],
   "source": [
    "# mega matrix with the covariates, da normalizzare forse?\n",
    "X1=np.array(dataset[\"età.media.delle.madri.al.parto\"])\n",
    "X2=np.array(dataset[\"età.media.dei.padri.alla.nascita.del.figlio\"])\n",
    "X3=np.array(dataset[\"tasso.di.occupazione.totale\"])\n",
    "# da valutare se vanno standardizzate\n",
    "fig, axs = plt.subplots(3)\n",
    "axs[0].hist(X1)\n",
    "axs[1].hist(X2)\n",
    "axs[2].hist(X3)\n",
    "plt.show()"
   ]
  },
  {
   "cell_type": "code",
   "execution_count": 88,
   "id": "d9aa2f72",
   "metadata": {},
   "outputs": [
    {
     "name": "stdout",
     "output_type": "stream",
     "text": [
      "[[[ 1.       30.94     34.8      33.029603]\n",
      "  [ 1.       30.73     34.57     32.385627]\n",
      "  [ 1.       31.09     34.78     31.198656]\n",
      "  ...\n",
      "  [ 1.       31.6      35.25     30.004547]\n",
      "  [ 1.       31.54     35.35     31.142074]\n",
      "  [ 1.       31.68     35.17     30.306778]]\n",
      "\n",
      " [[ 1.       30.8      34.84     46.27013 ]\n",
      "  [ 1.       31.       34.99     46.565086]\n",
      "  [ 1.       31.3      35.18     44.3959  ]\n",
      "  ...\n",
      "  [ 1.       31.59     35.51     46.205823]\n",
      "  [ 1.       31.72     35.76     46.077288]\n",
      "  [ 1.       31.76     35.63     44.499835]]\n",
      "\n",
      " [[ 1.       31.25     35.21     48.2398  ]\n",
      "  [ 1.       31.37     35.25     48.547481]\n",
      "  [ 1.       31.46     35.39     47.630386]\n",
      "  ...\n",
      "  [ 1.       32.26     35.69     48.115008]\n",
      "  [ 1.       32.24     35.93     47.126603]\n",
      "  [ 1.       32.29     35.8      46.690966]]\n",
      "\n",
      " ...\n",
      "\n",
      " [[ 1.       31.22     35.32     32.929587]\n",
      "  [ 1.       31.18     35.34     30.230937]\n",
      "  [ 1.       31.32     35.29     29.642365]\n",
      "  ...\n",
      "  [ 1.       31.54     35.46     33.325547]\n",
      "  [ 1.       32.08     35.9      31.257582]\n",
      "  [ 1.       31.76     35.54     28.053823]]\n",
      "\n",
      " [[ 1.       31.39     35.21     52.965195]\n",
      "  [ 1.       31.45     35.45     51.166939]\n",
      "  [ 1.       31.52     35.36     48.448981]\n",
      "  ...\n",
      "  [ 1.       32.19     35.72     51.734455]\n",
      "  [ 1.       32.15     35.71     52.186267]\n",
      "  [ 1.       32.34     35.81     49.514116]]\n",
      "\n",
      " [[ 1.       31.41     35.07     41.720281]\n",
      "  [ 1.       31.42     35.08     41.177559]\n",
      "  [ 1.       31.63     35.39     40.512002]\n",
      "  ...\n",
      "  [ 1.       32.05     35.64     41.733539]\n",
      "  [ 1.       31.97     35.51     41.133933]\n",
      "  [ 1.       32.38     35.89     41.088062]]]\n"
     ]
    },
    {
     "data": {
      "text/plain": [
       "(106, 10, 4)"
      ]
     },
     "execution_count": 88,
     "metadata": {},
     "output_type": "execute_result"
    }
   ],
   "source": [
    "P = 3\n",
    "X=np.ones((1060,P+1))\n",
    "X[:,1]=X1\n",
    "X[:,2]=X2\n",
    "X[:,3]=X3\n",
    "X=np.reshape(X,(106,10,P+1))\n",
    "print(X)\n",
    "X.shape\n",
    "\n",
    "\n",
    "#X3=np.array(dataset[\"tasso.di.occupazione.totale\"])\n",
    "#X[:,1]=X3"
   ]
  },
  {
   "cell_type": "code",
   "execution_count": 75,
   "id": "9ed1db85",
   "metadata": {},
   "outputs": [],
   "source": [
    "I= 106\n",
    "T= 10\n",
    "H= 10"
   ]
  },
  {
   "cell_type": "code",
   "execution_count": 54,
   "id": "c26e9155",
   "metadata": {},
   "outputs": [],
   "source": [
    "with open(\"proximity_matrix\", \"rb\") as f:\n",
    "    W_raw=pd.read_csv(f)"
   ]
  },
  {
   "cell_type": "code",
   "execution_count": 55,
   "id": "553f0c6a",
   "metadata": {},
   "outputs": [],
   "source": [
    "W_raw=np.matrix(W_raw)"
   ]
  },
  {
   "cell_type": "markdown",
   "id": "2e6f9172",
   "metadata": {},
   "source": [
    "# Prepare data for model"
   ]
  },
  {
   "cell_type": "code",
   "execution_count": 56,
   "id": "887c8282",
   "metadata": {},
   "outputs": [
    {
     "data": {
      "text/plain": [
       "True"
      ]
     },
     "execution_count": 56,
     "metadata": {},
     "output_type": "execute_result"
    }
   ],
   "source": [
    "for i in range(106):\n",
    "  W_raw[i,i] = 0\n",
    "\n",
    "W_raw=np.matrix(W_raw)\n",
    "Wt = W_raw.transpose()\n",
    "(Wt == W_raw).all()"
   ]
  },
  {
   "cell_type": "code",
   "execution_count": 59,
   "id": "aee67196",
   "metadata": {},
   "outputs": [
    {
     "data": {
      "text/plain": [
       "(106, 106)"
      ]
     },
     "execution_count": 59,
     "metadata": {},
     "output_type": "execute_result"
    }
   ],
   "source": [
    "# compute Qinv\n",
    "one_vector = np.ones(shape = (I,1))\n",
    "B = np.matmul(W_raw , one_vector)\n",
    "A =  np.diagflat(np.array(B))\n",
    "W_intermedia = A - W_raw\n",
    "\n",
    "\n",
    "rho = 0.95 \n",
    "Q = rho * W_intermedia  + (1-rho) * np.eye(I)\n",
    "Qinv = np.linalg.inv(Q)\n",
    "# Qinv.shape\n",
    "W_intermedia.shape"
   ]
  },
  {
   "cell_type": "code",
   "execution_count": 62,
   "id": "1e87cb30",
   "metadata": {},
   "outputs": [
    {
     "name": "stdout",
     "output_type": "stream",
     "text": [
      "True\n"
     ]
    }
   ],
   "source": [
    "#Qinv must be positive definite\n",
    "for i in range(I):\n",
    "  for j in range(I):\n",
    "    Qinv[j,i] = Qinv[i,j]\n",
    "\n",
    "Qinv=np.matrix(Qinv)\n",
    "Qinvt = Qinv.transpose()\n",
    "print((Qinv == Qinvt).all())\n",
    "\n",
    "#np.linalg.eig(Qinv)"
   ]
  },
  {
   "cell_type": "code",
   "execution_count": 90,
   "id": "143e7981",
   "metadata": {},
   "outputs": [],
   "source": [
    "mu_0 = np.zeros(P+1) #as in the paper\n",
    "mu_w_1 = np.zeros(I) #as in the paper\n",
    "sigma_0 = 1 #covariance matrix\n",
    "\n",
    "\n",
    "data = {\n",
    "    \"I\": I,\n",
    "    \"T\": T,\n",
    "    \"P\": P,\n",
    "    \"H\": H,\n",
    "    \"y\": y,\n",
    "    \"X\": X,\n",
    "    \"mu_0\": mu_0,\n",
    "    \"sigma_0\": sigma_0,\n",
    "    \"mu_w_1\": mu_w_1,\n",
    "    \"a_alpha\": 3,\n",
    "    \"b_alpha\": 2,\n",
    "    \"a_tau2\": 3,\n",
    "    \"b_tau2\": 3,\n",
    "    \"a_sigma2\": 3,\n",
    "    \"b_sigma2\": 2,\n",
    "    \"rho\": 0.95,\n",
    "    \"a_xi\": 1,\n",
    "    \"b_xi\": 1,\n",
    "    \"inv_Q\": Qinv\n",
    "}"
   ]
  },
  {
   "cell_type": "markdown",
   "id": "c98dac42",
   "metadata": {},
   "source": [
    "# Model"
   ]
  },
  {
   "cell_type": "code",
   "execution_count": 85,
   "id": "64e0fe29",
   "metadata": {},
   "outputs": [
    {
     "name": "stderr",
     "output_type": "stream",
     "text": [
      "11:40:36 - cmdstanpy - INFO - compiling stan file /home/riccardo/bayesian-project/True_Dataset.stan to exe file /home/riccardo/bayesian-project/True_Dataset\n",
      "11:41:05 - cmdstanpy - INFO - compiled model executable: /home/riccardo/bayesian-project/True_Dataset\n"
     ]
    }
   ],
   "source": [
    "dp_mix_stan = \"\"\"\n",
    "data\n",
    "{\n",
    "    int I; // number of areal locations\n",
    "    int T; // number of time steps\n",
    "    int P; // number of covariates\n",
    "    int H; // truncation of stick breaking construction dp\n",
    "    \n",
    "    array[I] vector[T] y; // value of interest\n",
    "    array[I] matrix[T,P+1] X; // covariates matrices for each province\n",
    "      \n",
    "    // hyperpar vector of regressors\n",
    "    vector[P+1] mu_0; \n",
    "    real        sigma_0;\n",
    "    \n",
    "    // mean of w_1 (random effect for every province at time 1)\n",
    "    vector[I] mu_w_1;\n",
    "    \n",
    "    // alpha\n",
    "    real a_alpha;\n",
    "    real b_alpha;\n",
    "    \n",
    "    // tau^2\n",
    "    real a_tau2;\n",
    "    real b_tau2;\n",
    "    \n",
    "    // sigma^2\n",
    "    real a_sigma2;\n",
    "    real b_sigma2;\n",
    "    \n",
    "    // rho \n",
    "    real rho;\n",
    "    \n",
    "    //xis\n",
    "    real a_xi;\n",
    "    real b_xi;\n",
    "\n",
    "    // Qinv\n",
    "    matrix[I,I] inv_Q;\n",
    "}\n",
    "\n",
    "transformed data {\n",
    "    matrix[I, I] L;\n",
    "    L = cholesky_decompose(inv_Q);\n",
    "}\n",
    "\n",
    "parameters\n",
    "{\n",
    "    real<lower=0> alpha;\n",
    "    real<lower=0> sigma2; \n",
    "    real<lower=0> tau2;  \n",
    "    \n",
    "    // autoregressive coefficient\n",
    "    real<lower=0,upper=1> xi_constructor;\n",
    "    \n",
    "    // betas for the mixture of the dirichlet process\n",
    "    array[H] vector[P+1] betas;\n",
    "\n",
    "    // for the construction of the dirichlet process\n",
    "    vector<lower=0,upper=1>[H-1] vs;\n",
    "    \n",
    "    // for the random effect construction \n",
    "    vector[I] w_raw;\n",
    "}\n",
    "\n",
    "transformed parameters\n",
    "{   \n",
    "    // weights stick breaking construction\n",
    "    simplex[H] omegas; \n",
    "    \n",
    "    // sbc stuff\n",
    "    vector[H-1] cumprod_one_mv;    \n",
    "    cumprod_one_mv = exp(cumulative_sum(log1m(vs)));\n",
    "    \n",
    "    omegas[1] = vs[1];\n",
    "    omegas[2:(H-1)] = vs[2:(H-1)] .* cumprod_one_mv[1:(H-2)];\n",
    "    omegas[H] = cumprod_one_mv[H-1];\n",
    "    \n",
    "    // xi of the random effects\n",
    "    real xi = 2*xi_constructor-1;\n",
    "    \n",
    "    // random effects tmp\n",
    "    matrix[I,T]                ws_tmp;\n",
    "    \n",
    "    ws_tmp[1:I,1] =  mu_w_1 + L*w_raw;\n",
    "    \n",
    "    for (t in 2:T)\n",
    "        ws_tmp[1:I,t] = ws_tmp[1:I,t-1]*xi + L*w_raw; \n",
    "    \n",
    "    matrix[T,I]   ws = (ws_tmp)'; //otherwise I have to transpose in the for loop at each iteration\n",
    "    \n",
    "    // Stan wants std\n",
    "    real sigma = sqrt(sigma2);\n",
    "    real tau = sqrt(tau2);\n",
    "    \n",
    "    // for each mixture and province the means for all the time\n",
    "    array[H,I] vector[T] means;\n",
    "\n",
    "    for (i in 1:I) {\n",
    "        for (h in 1:H) \n",
    "            means[h,i] = X[i]*betas[h] + ws[1:T,i];\n",
    "    }\n",
    "\n",
    "}\n",
    "\n",
    "model\n",
    "{\n",
    "    alpha  ~ gamma(a_alpha,b_alpha);\n",
    "    sigma2 ~ inv_gamma(a_sigma2,b_sigma2);\n",
    "    tau2   ~ inv_gamma(a_tau2,b_tau2);\n",
    "    vs     ~ beta(1,alpha);\n",
    "    w_raw ~ normal(0, tau); // does vectorization work? it is a vector it should\n",
    "    xi_constructor ~ beta(a_xi,b_xi);\n",
    "    \n",
    "    for (h in 1:H)\n",
    "        betas[h] ~ normal(mu_0, sigma_0);\n",
    "    \n",
    "    vector[H] log_probs;\n",
    "    for (i in 1:I) {\n",
    "        // si rinizializza in questo modo log_probs??\n",
    "        for (h in 1:H) \n",
    "            log_probs[h] = log(omegas[h]) + \n",
    "            normal_lpdf(y[i] | means[h,i], sigma);\n",
    "        \n",
    "        target += log_sum_exp(log_probs);\n",
    "    }\n",
    "}\n",
    "\n",
    "generated quantities \n",
    "{   \n",
    "    // vector of cluster allocations\n",
    "    vector[I] s;\n",
    "    \n",
    "    // log likelihood for each areal location \n",
    "    vector[I] log_lik;\n",
    "    \n",
    "    array[I] vector[H] log_probs;\n",
    "    for (i in 1:I) \n",
    "    {\n",
    "        for (h in 1:H) \n",
    "            log_probs[i,h] = log(omegas[h]) + \n",
    "            normal_lpdf(y[i] | means[h,i], sigma);\n",
    "        \n",
    "        s[i] = categorical_rng(softmax(log_probs[i]));\n",
    "        log_lik[i] = log_sum_exp(log_probs[i]);\n",
    "    }\n",
    "    \n",
    "        \n",
    "}\n",
    "\"\"\"\n",
    "\n",
    "stan_file = \"True_Dataset.stan\"\n",
    "\n",
    "with open(stan_file, \"w\") as fp:\n",
    "    fp.write(dp_mix_stan)\n",
    "    \n",
    "dp_mix = CmdStanModel(stan_file=stan_file)"
   ]
  },
  {
   "cell_type": "code",
   "execution_count": null,
   "id": "cfa2ec4f",
   "metadata": {},
   "outputs": [
    {
     "name": "stderr",
     "output_type": "stream",
     "text": [
      "11:55:10 - cmdstanpy - INFO - CmdStan start processing\n"
     ]
    },
    {
     "data": {
      "application/vnd.jupyter.widget-view+json": {
       "model_id": "124e25d65c164a81b6202a362bbda03c",
       "version_major": 2,
       "version_minor": 0
      },
      "text/plain": [
       "chain 1 |          | 00:00 Status"
      ]
     },
     "metadata": {},
     "output_type": "display_data"
    },
    {
     "data": {
      "application/vnd.jupyter.widget-view+json": {
       "model_id": "19fc3797c9344cec8be0694b24303e0e",
       "version_major": 2,
       "version_minor": 0
      },
      "text/plain": [
       "chain 2 |          | 00:00 Status"
      ]
     },
     "metadata": {},
     "output_type": "display_data"
    },
    {
     "data": {
      "application/vnd.jupyter.widget-view+json": {
       "model_id": "2bde824ad8ff47a4b9d6930073aa766a",
       "version_major": 2,
       "version_minor": 0
      },
      "text/plain": [
       "chain 3 |          | 00:00 Status"
      ]
     },
     "metadata": {},
     "output_type": "display_data"
    },
    {
     "data": {
      "application/vnd.jupyter.widget-view+json": {
       "model_id": "516aa380313146a59bff244c16fdc8d9",
       "version_major": 2,
       "version_minor": 0
      },
      "text/plain": [
       "chain 4 |          | 00:00 Status"
      ]
     },
     "metadata": {},
     "output_type": "display_data"
    }
   ],
   "source": [
    "fit = dp_mix.sample(data\n",
    "                    , iter_warmup = 2000\n",
    "                    , iter_sampling = 2000\n",
    "#                    , adapt_init_phase = 1500\n",
    "#                    , adapt_metric_window = 1500\n",
    "#                    , adapt_step_size = 1500\n",
    "#                    , show_console = True\n",
    "#                    , chains=4\n",
    "#                    , adapt_delta=0.9\n",
    "#                    , step_size = 0.2\n",
    "#                    , max_treedepth = 100\n",
    "                   )"
   ]
  },
  {
   "cell_type": "markdown",
   "id": "217c5ce0",
   "metadata": {},
   "source": [
    "# Model Saving"
   ]
  },
  {
   "cell_type": "code",
   "execution_count": 82,
   "id": "0b0ea007",
   "metadata": {},
   "outputs": [
    {
     "ename": "NameError",
     "evalue": "name 'fit' is not defined",
     "output_type": "error",
     "traceback": [
      "\u001b[0;31m---------------------------------------------------------------------------\u001b[0m",
      "\u001b[0;31mNameError\u001b[0m                                 Traceback (most recent call last)",
      "\u001b[0;32m/tmp/ipykernel_2412/1158386930.py\u001b[0m in \u001b[0;36m<module>\u001b[0;34m\u001b[0m\n\u001b[1;32m    150\u001b[0m \"\"\"\n\u001b[1;32m    151\u001b[0m \u001b[0;34m\u001b[0m\u001b[0m\n\u001b[0;32m--> 152\u001b[0;31m \u001b[0ms\u001b[0m \u001b[0;34m=\u001b[0m \u001b[0;34m(\u001b[0m\u001b[0mfit\u001b[0m\u001b[0;34m.\u001b[0m\u001b[0ms\u001b[0m\u001b[0;34m)\u001b[0m\u001b[0;34m.\u001b[0m\u001b[0mastype\u001b[0m\u001b[0;34m(\u001b[0m\u001b[0mint\u001b[0m\u001b[0;34m)\u001b[0m\u001b[0;34m\u001b[0m\u001b[0;34m\u001b[0m\u001b[0m\n\u001b[0m\u001b[1;32m    153\u001b[0m \u001b[0;34m\u001b[0m\u001b[0m\n\u001b[1;32m    154\u001b[0m \u001b[0mnp\u001b[0m\u001b[0;34m.\u001b[0m\u001b[0msavetxt\u001b[0m\u001b[0;34m(\u001b[0m\u001b[0;34m\"true_dataset_posterior_s.csv\"\u001b[0m\u001b[0;34m,\u001b[0m \u001b[0ms\u001b[0m\u001b[0;34m,\u001b[0m \u001b[0mdelimiter\u001b[0m\u001b[0;34m=\u001b[0m\u001b[0;34m\",\"\u001b[0m\u001b[0;34m)\u001b[0m\u001b[0;34m\u001b[0m\u001b[0;34m\u001b[0m\u001b[0m\n",
      "\u001b[0;31mNameError\u001b[0m: name 'fit' is not defined"
     ]
    }
   ],
   "source": [
    "s = (fit.s).astype(int)\n",
    "\n",
    "np.savetxt(\"true_dataset_posterior_s.csv\", s, delimiter=\",\")\n",
    "s.shape"
   ]
  },
  {
   "cell_type": "code",
   "execution_count": null,
   "id": "45e68a66",
   "metadata": {},
   "outputs": [],
   "source": [
    "np.savetxt(\"true_dataset_posterior_betas.csv\", fit.betas, delimiter=\",\")\n",
    "fit.betas.shape"
   ]
  },
  {
   "cell_type": "code",
   "execution_count": null,
   "id": "f90ff6bf",
   "metadata": {},
   "outputs": [],
   "source": [
    "np.savetxt(\"true_dataset_posterior_xi.csv\", fit.xi, delimiter=\",\")\n",
    "np.savetxt(\"true_dataset_posterior_alpha.csv\", fit.alpha, delimiter=\",\")"
   ]
  },
  {
   "cell_type": "markdown",
   "id": "e538fe90",
   "metadata": {},
   "source": [
    "# Plots"
   ]
  },
  {
   "cell_type": "code",
   "execution_count": null,
   "id": "237d3140",
   "metadata": {},
   "outputs": [],
   "source": [
    "fit_az = az.from_cmdstanpy(fit)\n",
    "az.plot_trace(fit_az,var_names=[\"betas\"], compact=False)"
   ]
  },
  {
   "cell_type": "code",
   "execution_count": null,
   "id": "1f36ebe5",
   "metadata": {},
   "outputs": [],
   "source": [
    "# Salso package for clustering\n",
    "# modello a clustering fissato\n",
    "# media dei beta \n",
    "# media dei random effects\n",
    "# goodness of fit criteria WAIC e LOO (or LMPL)\n",
    "# multimodalità quindi non so se ha senso fare credible interval, magari per clustering fissato si "
   ]
  }
 ],
 "metadata": {
  "kernelspec": {
   "display_name": "Python 3 (ipykernel)",
   "language": "python",
   "name": "python3"
  },
  "language_info": {
   "codemirror_mode": {
    "name": "ipython",
    "version": 3
   },
   "file_extension": ".py",
   "mimetype": "text/x-python",
   "name": "python",
   "nbconvert_exporter": "python",
   "pygments_lexer": "ipython3",
   "version": "3.10.6"
  }
 },
 "nbformat": 4,
 "nbformat_minor": 5
}
