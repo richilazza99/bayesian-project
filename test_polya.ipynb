{
 "cells": [
  {
   "cell_type": "code",
   "execution_count": 2,
   "id": "f1122f25",
   "metadata": {},
   "outputs": [],
   "source": [
    "import numpy as np\n",
    "import arviz as az\n",
    "import matplotlib.pyplot as plt\n",
    "\n",
    "from cmdstanpy import CmdStanModel"
   ]
  },
  {
   "cell_type": "code",
   "execution_count": 17,
   "id": "5d93a6b2",
   "metadata": {},
   "outputs": [
    {
     "name": "stderr",
     "output_type": "stream",
     "text": [
      "10:35:15 - cmdstanpy - INFO - compiling stan file /home/daan/bayesian-project/test_polya.stan to exe file /home/daan/bayesian-project/test_polya\n"
     ]
    },
    {
     "ename": "ValueError",
     "evalue": "Failed to compile Stan model '/home/daan/bayesian-project/test_polya.stan'. Console:\n\n--- Translating Stan model to C++ code ---\nbin/stanc  --o=/home/daan/bayesian-project/test_polya.hpp /home/daan/bayesian-project/test_polya.stan\nSemantic error in '/home/daan/bayesian-project/test_polya.stan', line 40, column 8 to column 19:\n   -------------------------------------------------\n    38:          tmp ~ categorical(theta);\n    39:          \n    40:          s[i] = tmp;\n                 ^\n    41:          \n    42:          if (s[i] == K_I + 1)\n   -------------------------------------------------\n\nCannot assign to global variable 's' declared in previous blocks.\nmake: *** [make/program:50: /home/daan/bayesian-project/test_polya.hpp] Error 1\n\nCommand ['make', '/home/daan/bayesian-project/test_polya']\n\terror during processing No such file or directory\n",
     "output_type": "error",
     "traceback": [
      "\u001b[0;31m---------------------------------------------------------------------------\u001b[0m",
      "\u001b[0;31mValueError\u001b[0m                                Traceback (most recent call last)",
      "\u001b[0;32m/tmp/ipykernel_41087/1371284985.py\u001b[0m in \u001b[0;36m<module>\u001b[0;34m\u001b[0m\n\u001b[1;32m     54\u001b[0m     \u001b[0mfp\u001b[0m\u001b[0;34m.\u001b[0m\u001b[0mwrite\u001b[0m\u001b[0;34m(\u001b[0m\u001b[0mtest_polya\u001b[0m\u001b[0;34m)\u001b[0m\u001b[0;34m\u001b[0m\u001b[0;34m\u001b[0m\u001b[0m\n\u001b[1;32m     55\u001b[0m \u001b[0;34m\u001b[0m\u001b[0m\n\u001b[0;32m---> 56\u001b[0;31m \u001b[0mtest_polya_stan\u001b[0m \u001b[0;34m=\u001b[0m \u001b[0mCmdStanModel\u001b[0m\u001b[0;34m(\u001b[0m\u001b[0mstan_file\u001b[0m\u001b[0;34m=\u001b[0m\u001b[0mstan_file\u001b[0m\u001b[0;34m)\u001b[0m\u001b[0;34m\u001b[0m\u001b[0;34m\u001b[0m\u001b[0m\n\u001b[0m",
      "\u001b[0;32m~/.local/lib/python3.10/site-packages/cmdstanpy/model.py\u001b[0m in \u001b[0;36m__init__\u001b[0;34m(self, model_name, stan_file, exe_file, compile, stanc_options, cpp_options, user_header)\u001b[0m\n\u001b[1;32m    211\u001b[0m \u001b[0;34m\u001b[0m\u001b[0m\n\u001b[1;32m    212\u001b[0m         \u001b[0;32mif\u001b[0m \u001b[0mcompile\u001b[0m \u001b[0;32mand\u001b[0m \u001b[0mself\u001b[0m\u001b[0;34m.\u001b[0m\u001b[0m_exe_file\u001b[0m \u001b[0;32mis\u001b[0m \u001b[0;32mNone\u001b[0m\u001b[0;34m:\u001b[0m\u001b[0;34m\u001b[0m\u001b[0;34m\u001b[0m\u001b[0m\n\u001b[0;32m--> 213\u001b[0;31m             \u001b[0mself\u001b[0m\u001b[0;34m.\u001b[0m\u001b[0mcompile\u001b[0m\u001b[0;34m(\u001b[0m\u001b[0mforce\u001b[0m\u001b[0;34m=\u001b[0m\u001b[0mstr\u001b[0m\u001b[0;34m(\u001b[0m\u001b[0mcompile\u001b[0m\u001b[0;34m)\u001b[0m\u001b[0;34m.\u001b[0m\u001b[0mlower\u001b[0m\u001b[0;34m(\u001b[0m\u001b[0;34m)\u001b[0m \u001b[0;34m==\u001b[0m \u001b[0;34m'force'\u001b[0m\u001b[0;34m)\u001b[0m\u001b[0;34m\u001b[0m\u001b[0;34m\u001b[0m\u001b[0m\n\u001b[0m\u001b[1;32m    214\u001b[0m \u001b[0;34m\u001b[0m\u001b[0m\n\u001b[1;32m    215\u001b[0m     \u001b[0;32mdef\u001b[0m \u001b[0m__repr__\u001b[0m\u001b[0;34m(\u001b[0m\u001b[0mself\u001b[0m\u001b[0;34m)\u001b[0m \u001b[0;34m->\u001b[0m \u001b[0mstr\u001b[0m\u001b[0;34m:\u001b[0m\u001b[0;34m\u001b[0m\u001b[0;34m\u001b[0m\u001b[0m\n",
      "\u001b[0;32m~/.local/lib/python3.10/site-packages/cmdstanpy/model.py\u001b[0m in \u001b[0;36mcompile\u001b[0;34m(self, force, stanc_options, cpp_options, user_header, override_options)\u001b[0m\n\u001b[1;32m    548\u001b[0m                         \u001b[0;34m\"If the issue persists please open a bug report\"\u001b[0m\u001b[0;34m\u001b[0m\u001b[0;34m\u001b[0m\u001b[0m\n\u001b[1;32m    549\u001b[0m                     )\n\u001b[0;32m--> 550\u001b[0;31m                 raise ValueError(\n\u001b[0m\u001b[1;32m    551\u001b[0m                     \u001b[0;34mf\"Failed to compile Stan model '{self._stan_file}'. \"\u001b[0m\u001b[0;34m\u001b[0m\u001b[0;34m\u001b[0m\u001b[0m\n\u001b[1;32m    552\u001b[0m                     \u001b[0;34mf\"Console:\\n{console}\"\u001b[0m\u001b[0;34m\u001b[0m\u001b[0;34m\u001b[0m\u001b[0m\n",
      "\u001b[0;31mValueError\u001b[0m: Failed to compile Stan model '/home/daan/bayesian-project/test_polya.stan'. Console:\n\n--- Translating Stan model to C++ code ---\nbin/stanc  --o=/home/daan/bayesian-project/test_polya.hpp /home/daan/bayesian-project/test_polya.stan\nSemantic error in '/home/daan/bayesian-project/test_polya.stan', line 40, column 8 to column 19:\n   -------------------------------------------------\n    38:          tmp ~ categorical(theta);\n    39:          \n    40:          s[i] = tmp;\n                 ^\n    41:          \n    42:          if (s[i] == K_I + 1)\n   -------------------------------------------------\n\nCannot assign to global variable 's' declared in previous blocks.\nmake: *** [make/program:50: /home/daan/bayesian-project/test_polya.hpp] Error 1\n\nCommand ['make', '/home/daan/bayesian-project/test_polya']\n\terror during processing No such file or directory\n"
     ]
    }
   ],
   "source": [
    "test_polya = '''\n",
    "data \n",
    "{\n",
    "    real<lower=0> alpha;\n",
    "    int<lower=1> I;\n",
    "}\n",
    "\n",
    "parameters \n",
    "{\n",
    "    vector<lower=0>[I] s;\n",
    "}\n",
    "\n",
    "model\n",
    "{\n",
    "    // declare variables\n",
    "    vector[I] n;\n",
    "    int K_I;\n",
    "    vector[I] theta;\n",
    "    int tmp;\n",
    "    \n",
    "    // initialize to zero    \n",
    "    for (i in 1:I) {\n",
    "        n[i] = 0;\n",
    "    }\n",
    "    \n",
    "    // set first values\n",
    "    n[1] = 1;\n",
    "    K_I = 0;\n",
    "    \n",
    "    //\n",
    "    for (i in 1:I) {\n",
    "    \n",
    "        for (j in 1:K_I)\n",
    "            theta[j] = n[j] / (i - 1 + alpha);\n",
    "            \n",
    "        theta[K_I + 1] = alpha / (i - 1 + alpha);\n",
    "        \n",
    "        tmp ~ categorical(theta);\n",
    "        \n",
    "        s[i] = tmp;\n",
    "        \n",
    "        if (s[i] == K_I + 1)\n",
    "            K_I += 1;\n",
    "            \n",
    "        n[s[i]] += 1;\n",
    "    }\n",
    "    \n",
    "}\n",
    "'''\n",
    "\n",
    "stan_file = \"test_polya.stan\"\n",
    "\n",
    "with open(stan_file, \"w\") as fp:\n",
    "    fp.write(test_polya)\n",
    "    \n",
    "test_polya_stan = CmdStanModel(stan_file=stan_file)"
   ]
  }
 ],
 "metadata": {
  "kernelspec": {
   "display_name": "Python 3 (ipykernel)",
   "language": "python",
   "name": "python3"
  },
  "language_info": {
   "codemirror_mode": {
    "name": "ipython",
    "version": 3
   },
   "file_extension": ".py",
   "mimetype": "text/x-python",
   "name": "python",
   "nbconvert_exporter": "python",
   "pygments_lexer": "ipython3",
   "version": "3.10.6"
  }
 },
 "nbformat": 4,
 "nbformat_minor": 5
}
