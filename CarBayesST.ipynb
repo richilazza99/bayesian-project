{
 "cells": [
  {
   "cell_type": "code",
   "execution_count": 2,
   "id": "70f2cddf",
   "metadata": {},
   "outputs": [],
   "source": [
    "from cmdstanpy import CmdStanModel\n",
    "import arviz as az\n",
    "\n",
    "import numpy as np\n",
    "import matplotlib.pyplot as plt"
   ]
  },
  {
   "cell_type": "code",
   "execution_count": 31,
   "id": "61a24fcd",
   "metadata": {},
   "outputs": [
    {
     "name": "stderr",
     "output_type": "stream",
     "text": [
      "14:55:29 - cmdstanpy - INFO - compiling stan file /home/riccardo/bayesian-project/Sp_corr.stan to exe file /home/riccardo/bayesian-project/Sp_corr\n",
      "14:56:09 - cmdstanpy - INFO - compiled model executable: /home/riccardo/bayesian-project/Sp_corr\n"
     ]
    }
   ],
   "source": [
    "dp_mix_stan = \"\"\"\n",
    "data\n",
    "{\n",
    "    int I; // number of areal locations\n",
    "    int T; // number of time steps\n",
    "    int P; // number of covariates\n",
    "    \n",
    "    array[I] vector[T] y; // value of interest\n",
    "    array[I] matrix[T,P+1] X; // covariates matrices for each province\n",
    "      \n",
    "    // hyperpar vector of regressors\n",
    "    vector[P+1] mu_0; \n",
    "    real        sigma_0;\n",
    "    \n",
    "    // mean of w_1 (random effect for every province at time 1)\n",
    "    vector[I] mu_w_1;\n",
    "    \n",
    "    // tau^2\n",
    "    real a_tau2;\n",
    "    real b_tau2;\n",
    "    \n",
    "    // sigma^2\n",
    "    real a_sigma2;\n",
    "    real b_sigma2;\n",
    "    \n",
    "    // proximity matrix\n",
    "    matrix[I,I] W_raw;\n",
    "    \n",
    "}\n",
    "\n",
    "transformed data\n",
    "{\n",
    "    vector[T] ones_T;\n",
    "    for (t in 1:T)\n",
    "        ones_T[t] = 1;\n",
    "    \n",
    "    matrix[T,T] eye_T = diag_matrix(ones_T);\n",
    " \n",
    "    vector[I] ones_I;\n",
    "    for (i in 1:I)\n",
    "        ones_I[i] = 1;\n",
    "    \n",
    "    matrix[I,I] eye_I;\n",
    "    eye_I = diag_matrix(ones_I);\n",
    "        \n",
    "    matrix[I,I] W;\n",
    "    W = diag_matrix(W_raw*ones_I) - W_raw;\n",
    "}\n",
    "\n",
    "parameters\n",
    "{\n",
    "    real<lower=0> sigma2; \n",
    "    real<lower=0> tau2; \n",
    "    real<lower=0,upper=1> rho_t;\n",
    "    real<lower=0,upper=1> rho_s;\n",
    "    \n",
    "    // beta\n",
    "    vector[P+1] beta;\n",
    "\n",
    "    // for the random effect construction \n",
    "    array[T] vector[I] w_raw;\n",
    "}\n",
    "\n",
    "transformed parameters\n",
    "{   \n",
    "    // Stan wants std\n",
    "    real sigma = sqrt(sigma2);\n",
    "    real tau = sqrt(tau2);\n",
    "    \n",
    "    matrix[I,I] inv_Q = inverse_spd(rho_s*W + (1-rho_s)*eye_I);\n",
    "    \n",
    "    matrix[I, I] L;\n",
    "    L = cholesky_decompose(inv_Q);\n",
    "    \n",
    "     // random effects tmp\n",
    "    matrix[I,T]                ws_tmp;\n",
    "    \n",
    "    ws_tmp[1:I,1] =  mu_w_1 + L*w_raw[1];\n",
    "    \n",
    "    for (t in 2:T)\n",
    "        ws_tmp[1:I,t] = rho_t*ws_tmp[1:I,t-1] + L*w_raw[t]; \n",
    "    \n",
    "    matrix[T,I]   ws = (ws_tmp)'; //otherwise I have to transpose in the for loop at each iteration\n",
    "}\n",
    "\n",
    "model\n",
    "{\n",
    "    sigma2 ~ inv_gamma(a_sigma2,b_sigma2);\n",
    "    tau2   ~ inv_gamma(a_tau2,b_tau2); \n",
    "    rho_t  ~ uniform(0,1);\n",
    "    rho_s  ~ uniform(0,1);\n",
    "    \n",
    "    w_raw[1] ~ normal(0, tau); \n",
    "    \n",
    "    for (t in 2:T)\n",
    "        w_raw[t] ~ normal(0, tau);\n",
    "    \n",
    "    beta ~ normal(mu_0, sigma_0);\n",
    "    \n",
    "    for (i in 1:I) {\n",
    "        \n",
    "        y[i] ~ normal(X[i]*beta + ws[1:T,i], sigma);\n",
    "    \n",
    "    }\n",
    "}\n",
    "\n",
    "generated quantities \n",
    "{   \n",
    "    // log likelihood for each areal location \n",
    "    vector[I] log_lik;\n",
    "    \n",
    "    for (i in 1:I) \n",
    "    {\n",
    "        log_lik[i] = normal_lpdf(y[i] | X[i]*beta + ws[1:T,i], sigma);\n",
    "    }\n",
    "    \n",
    "}\n",
    "\"\"\"\n",
    "\n",
    "stan_file = \"Sp_corr.stan\"\n",
    "\n",
    "with open(stan_file, \"w\") as fp:\n",
    "    fp.write(dp_mix_stan)\n",
    "    \n",
    "dp_mix = CmdStanModel(stan_file=stan_file)"
   ]
  },
  {
   "cell_type": "code",
   "execution_count": 5,
   "id": "78323745",
   "metadata": {},
   "outputs": [],
   "source": [
    "import pandas as pd\n",
    "import numpy as np\n",
    "import matplotlib.pyplot as plt"
   ]
  },
  {
   "cell_type": "code",
   "execution_count": 7,
   "id": "43ecc58f",
   "metadata": {},
   "outputs": [],
   "source": [
    "with open(\"fecondità_finale\", \"rb\") as f:\n",
    "    dataset=pd.read_csv(f)\n",
    "    \n",
    "dataset = dataset.sort_values(by=['Territorio', 'TIME']) # the proximity matrix is built with the prov in alphabetic order"
   ]
  },
  {
   "cell_type": "code",
   "execution_count": 15,
   "id": "2c5662df",
   "metadata": {},
   "outputs": [
    {
     "name": "stdout",
     "output_type": "stream",
     "text": [
      "0.015125712353150588\n",
      "1.3187169811320756\n",
      "[[1.37 1.35 1.27 ... 1.29 1.24 1.26]\n",
      " [1.37 1.36 1.3  ... 1.22 1.17 1.15]\n",
      " [1.44 1.43 1.36 ... 1.24 1.21 1.21]\n",
      " ...\n",
      " [1.28 1.36 1.24 ... 1.29 1.25 1.3 ]\n",
      " [1.51 1.53 1.47 ... 1.39 1.33 1.34]\n",
      " [1.31 1.31 1.23 ... 1.2  1.11 1.09]]\n",
      "(106, 10)\n"
     ]
    },
    {
     "data": {
      "image/png": "[encoded data removed]",
      "text/plain": [
       "<Figure size 432x288 with 1 Axes>"
      ]
     },
     "metadata": {
      "needs_background": "light"
     },
     "output_type": "display_data"
    }
   ],
   "source": [
    "Y=np.array(dataset[\"tasso.di.fecondità.totale\"])\n",
    "\n",
    "print(np.var(Y))\n",
    "print(np.mean(Y))\n",
    "\n",
    "\n",
    "y = []\n",
    "y_tmp = np.zeros(10)\n",
    "for prov in np.unique(dataset[\"Territorio\"]):\n",
    "    data_prov = dataset[dataset[\"Territorio\"] == prov]\n",
    "    y_tmp = np.array(data_prov[\"tasso.di.fecondità.totale\"])\n",
    "    y.append(y_tmp)\n",
    "y = np.array(y)\n",
    "print(y)\n",
    "print(y.shape)\n",
    "plt.hist(Y)  \n",
    "plt.show()"
   ]
  },
  {
   "cell_type": "code",
   "execution_count": 16,
   "id": "48ae965f",
   "metadata": {},
   "outputs": [
    {
     "data": {
      "image/png": "[encoded data removed]",
      "text/plain": [
       "<Figure size 432x288 with 3 Axes>"
      ]
     },
     "metadata": {
      "needs_background": "light"
     },
     "output_type": "display_data"
    }
   ],
   "source": [
    "X1=np.array(dataset[\"età.media.delle.madri.al.parto\"])\n",
    "X2=np.array(dataset[\"tasso.di.occupazione.delle.femmine\"])\n",
    "X3=np.array(dataset[\"tasso.di.inattività.delle.femmine\"])\n",
    "fig,axs = plt.subplots(3)\n",
    "axs[0].hist(X1)\n",
    "axs[1].hist(X2)\n",
    "axs[2].hist(X3)\n",
    "plt.show()"
   ]
  },
  {
   "cell_type": "code",
   "execution_count": 18,
   "id": "8211a047",
   "metadata": {},
   "outputs": [
    {
     "name": "stdout",
     "output_type": "stream",
     "text": [
      "[[[ 1.       30.94     19.828757 75.561168]\n",
      "  [ 1.       30.73     20.513632 74.366121]\n",
      "  [ 1.       31.09     19.889053 73.567265]\n",
      "  ...\n",
      "  [ 1.       31.6      17.657712 72.894657]\n",
      "  [ 1.       31.54     20.233052 72.657509]\n",
      "  [ 1.       31.68     19.605443 73.588625]]\n",
      "\n",
      " [[ 1.       30.8      39.451928 57.574233]\n",
      "  [ 1.       31.       40.164516 54.810388]\n",
      "  [ 1.       31.3      36.393676 57.093995]\n",
      "  ...\n",
      "  [ 1.       31.59     38.993238 56.520048]\n",
      "  [ 1.       31.72     37.393056 57.636515]\n",
      "  [ 1.       31.76     36.56961  58.716203]]\n",
      "\n",
      " [[ 1.       31.25     41.99944  53.959666]\n",
      "  [ 1.       31.37     40.624724 54.142564]\n",
      "  [ 1.       31.46     40.848654 53.062674]\n",
      "  ...\n",
      "  [ 1.       32.26     41.319976 53.56965 ]\n",
      "  [ 1.       32.24     41.867732 52.173954]\n",
      "  [ 1.       32.29     40.33348  55.326854]]\n",
      "\n",
      " ...\n",
      "\n",
      " [[ 1.       31.22     23.356139 72.17985 ]\n",
      "  [ 1.       31.18     21.612323 73.166793]\n",
      "  [ 1.       31.32     22.219573 70.285546]\n",
      "  ...\n",
      "  [ 1.       31.54     24.605974 70.280228]\n",
      "  [ 1.       32.08     21.442247 73.145396]\n",
      "  [ 1.       31.76     19.782217 73.395832]]\n",
      "\n",
      " [[ 1.       31.39     42.550464 54.691948]\n",
      "  [ 1.       31.45     41.436636 54.884676]\n",
      "  [ 1.       31.52     38.889278 56.854571]\n",
      "  ...\n",
      "  [ 1.       32.19     42.247691 54.504586]\n",
      "  [ 1.       32.15     43.731781 53.620067]\n",
      "  [ 1.       32.34     40.3515   55.53149 ]]\n",
      "\n",
      " [[ 1.       31.41     31.067749 64.932873]\n",
      "  [ 1.       31.42     31.576253 62.741523]\n",
      "  [ 1.       31.63     32.828409 60.429986]\n",
      "  ...\n",
      "  [ 1.       32.05     33.458828 61.82003 ]\n",
      "  [ 1.       31.97     32.974065 63.118101]\n",
      "  [ 1.       32.38     31.80553  64.382497]]]\n"
     ]
    },
    {
     "data": {
      "image/png": "[encoded data removed]",
      "text/plain": [
       "<Figure size 432x288 with 3 Axes>"
      ]
     },
     "metadata": {
      "needs_background": "light"
     },
     "output_type": "display_data"
    }
   ],
   "source": [
    "P = 3\n",
    "X=np.ones((1060,P+1))\n",
    "\n",
    "X[:,1]=X1\n",
    "\n",
    "X[:,2]=X2\n",
    "\n",
    "X[:,3]=X3\n",
    "\n",
    "X_r = np.reshape(X,(106,10,P+1))\n",
    "\n",
    "print(X_r)\n",
    "X_r.shape\n",
    "\n",
    "fig,axs = plt.subplots(3)\n",
    "axs[0].hist(X1)\n",
    "axs[1].hist(X2)\n",
    "axs[2].hist(X3)\n",
    "plt.show()"
   ]
  },
  {
   "cell_type": "code",
   "execution_count": 19,
   "id": "ed196a14",
   "metadata": {},
   "outputs": [],
   "source": [
    "I= 106\n",
    "T= 10\n",
    "H= 10"
   ]
  },
  {
   "cell_type": "code",
   "execution_count": 20,
   "id": "bb5b3071",
   "metadata": {},
   "outputs": [],
   "source": [
    "with open(\"proximity_matrix\", \"rb\") as f:\n",
    "    W_raw=pd.read_csv(f)"
   ]
  },
  {
   "cell_type": "code",
   "execution_count": 21,
   "id": "6db31e1e",
   "metadata": {},
   "outputs": [],
   "source": [
    "W_raw=np.matrix(W_raw)"
   ]
  },
  {
   "cell_type": "code",
   "execution_count": 24,
   "id": "210c63c2",
   "metadata": {},
   "outputs": [],
   "source": [
    "for i in range(106):\n",
    "  W_raw[i,i] = 0"
   ]
  },
  {
   "cell_type": "code",
   "execution_count": 25,
   "id": "5c041e16",
   "metadata": {},
   "outputs": [],
   "source": [
    "mu_0 = np.zeros(P+1) #as in the paper\n",
    "mu_w_1 = np.zeros(I) #as in the paper\n",
    "sigma_0 = 1 #covariance matrix\n",
    "H = 10\n",
    "\n",
    "data = {\n",
    "    \"I\": I,\n",
    "    \"T\": T,\n",
    "    \"P\": P,\n",
    "    \"y\": y,\n",
    "    \"X\": X_r,\n",
    "    \"mu_0\": mu_0,\n",
    "    \"sigma_0\": sigma_0,\n",
    "    \"mu_w_1\": mu_w_1,\n",
    "    \"a_tau2\": 3,\n",
    "    \"b_tau2\": 2,\n",
    "    \"a_sigma2\": 3,\n",
    "    \"b_sigma2\": 2,\n",
    "    \"W_raw\": W_raw\n",
    "}"
   ]
  },
  {
   "cell_type": "code",
   "execution_count": null,
   "id": "74be2c40",
   "metadata": {},
   "outputs": [],
   "source": [
    "fit = dp_mix.sample(data\n",
    "                    , iter_warmup = 2000\n",
    "                    , iter_sampling = 2000)"
   ]
  }
 ],
 "metadata": {
  "kernelspec": {
   "display_name": "Python 3 (ipykernel)",
   "language": "python",
   "name": "python3"
  },
  "language_info": {
   "codemirror_mode": {
    "name": "ipython",
    "version": 3
   },
   "file_extension": ".py",
   "mimetype": "text/x-python",
   "name": "python",
   "nbconvert_exporter": "python",
   "pygments_lexer": "ipython3",
   "version": "3.9.6"
  }
 },
 "nbformat": 4,
 "nbformat_minor": 5
}
